{
 "cells": [
  {
   "cell_type": "code",
   "execution_count": 1,
   "metadata": {},
   "outputs": [
    {
     "name": "stdout",
     "output_type": "stream",
     "text": [
      "                  Class    age menopause tumor-size inv-nodes node-caps  \\\n",
      "0  no-recurrence-events  30-39   premeno      30-34       0-2        no   \n",
      "1  no-recurrence-events  40-49   premeno      20-24       0-2        no   \n",
      "2  no-recurrence-events  40-49   premeno      20-24       0-2        no   \n",
      "3  no-recurrence-events  60-69      ge40      15-19       0-2        no   \n",
      "4  no-recurrence-events  40-49   premeno        0-4       0-2        no   \n",
      "\n",
      "   deg-malig breast breast-quad irradiat  \n",
      "0          3   left    left_low       no  \n",
      "1          2  right    right_up       no  \n",
      "2          2   left    left_low       no  \n",
      "3          2  right     left_up       no  \n",
      "4          2  right   right_low       no  \n",
      "sum of nans in Class : 0 \n",
      "sum of nans in age : 0 \n",
      "sum of nans in menopause : 0 \n",
      "sum of nans in tumor-size : 0 \n",
      "sum of nans in inv-nodes : 0 \n",
      "sum of nans in node-caps : 8 \n",
      "sum of nans in deg-malig : 0 \n",
      "sum of nans in breast : 0 \n",
      "sum of nans in breast-quad : 1 \n",
      "sum of nans in irradiat : 0 \n",
      "                    Class    age menopause tumor-size inv-nodes node-caps  \\\n",
      "0    no-recurrence-events  30-39   premeno      30-34       0-2        no   \n",
      "1    no-recurrence-events  40-49   premeno      20-24       0-2        no   \n",
      "2    no-recurrence-events  40-49   premeno      20-24       0-2        no   \n",
      "3    no-recurrence-events  60-69      ge40      15-19       0-2        no   \n",
      "4    no-recurrence-events  40-49   premeno        0-4       0-2        no   \n",
      "..                    ...    ...       ...        ...       ...       ...   \n",
      "281     recurrence-events  30-39   premeno      30-34       0-2        no   \n",
      "282     recurrence-events  30-39   premeno      20-24       0-2        no   \n",
      "283     recurrence-events  60-69      ge40      20-24       0-2        no   \n",
      "284     recurrence-events  40-49      ge40      30-34       3-5        no   \n",
      "285     recurrence-events  50-59      ge40      30-34       3-5        no   \n",
      "\n",
      "     deg-malig breast breast-quad irradiat  \n",
      "0            3   left    left_low       no  \n",
      "1            2  right    right_up       no  \n",
      "2            2   left    left_low       no  \n",
      "3            2  right     left_up       no  \n",
      "4            2  right   right_low       no  \n",
      "..         ...    ...         ...      ...  \n",
      "281          2   left     left_up       no  \n",
      "282          3   left     left_up      yes  \n",
      "283          1  right     left_up       no  \n",
      "284          3   left    left_low       no  \n",
      "285          3   left    left_low       no  \n",
      "\n",
      "[286 rows x 10 columns]\n"
     ]
    }
   ],
   "source": [
    "import  pandas as pd \n",
    "import numpy as np \n",
    "import sklearn\n",
    "from sklearn.metrics import accuracy_score , f1_score , recall_score ,roc_auc_score as roc \n",
    "atributes = [ 'Class', 'age', 'menopause', 'tumor-size' ,'inv-nodes', 'node-caps', 'deg-malig' ,'breast', 'breast-quad', 'irradiat']\n",
    "missing = [np.nan , None , \"\" , \"?\"]\n",
    "df = pd.read_csv('./data/breast-cancer.csv', names=atributes, na_values=missing) \n",
    "print(df.head())\n",
    "\n",
    "\n",
    "for i in df:\n",
    "    print(\"sum of nans in {} : {} \".format(i,df[i].isna().sum() ))\n",
    "print(df)\n",
    "\n",
    "## convert ages \n",
    "ages = []\n",
    "for row in df[\"age\"]:\n",
    "    if row == \"20-29\":\n",
    "        ages.append(0)\n",
    "    elif row == \"30-39\":\n",
    "        ages.append(1)\n",
    "    elif row == \"40-49\":\n",
    "        ages.append(2)\n",
    "    elif row == \"50-59\":\n",
    "        ages.append(3)\n",
    "    elif row == \"60-69\":\n",
    "        ages.append(4)\n",
    "    elif row == \"70-79\":\n",
    "        ages.append(5)\n",
    "    else :\n",
    "        ages.append(6)\n",
    "ages_df = pd.DataFrame(ages)\n",
    "\n",
    "\n",
    "df[\"age\"] = ages_df\n",
    "sizes_table = []\n",
    "for row in df[\"tumor-size\"]:\n",
    "#     print(row)\n",
    "    if row == '0-4':\n",
    "        sizes_table.append(0)\n",
    "    elif row == '5-9':\n",
    "        sizes_table.append(1)\n",
    "    elif row == '10-14':\n",
    "        sizes_table.append(2)\n",
    "    elif row == '15-19':\n",
    "        sizes_table.append(3)\n",
    "    elif row == '20-24':\n",
    "        sizes_table.append(4)\n",
    "    elif row == '25-29':\n",
    "        sizes_table.append(5)\n",
    "    elif row == '30-34':\n",
    "        sizes_table.append(6)       \n",
    "    elif row == '35-39':\n",
    "        sizes_table.append(7)       \n",
    "    elif row == '40-44':\n",
    "        sizes_table.append(8)\n",
    "    elif row == '45-49':\n",
    "        sizes_table.append(9)\n",
    "    elif row == '50-54' :\n",
    "        sizes_table.append(10)\n",
    "\n",
    "        \n",
    "sizes_table_df = pd.DataFrame(sizes_table)\n",
    "df[\"tumor-size\"] = sizes_table_df\n",
    "\n",
    "\n",
    "### gia inv-nodes\n",
    "table = []\n",
    "for row in df[\"inv-nodes\"]:\n",
    "#     print(row)\n",
    "    if row == '0-2':\n",
    "        table.append(0)\n",
    "    elif row == '3-5':\n",
    "        table.append(1)\n",
    "    elif row == '6-8':\n",
    "        table.append(2)\n",
    "    elif row == '9-11':\n",
    "        table.append(3)\n",
    "    elif row == '12-14':\n",
    "        table.append(4)\n",
    "    elif row == '15-17':\n",
    "        table.append(5)\n",
    "    elif row == '24-26':\n",
    "        table.append(6)       \n",
    "        \n",
    "\n",
    "table_df = pd.DataFrame(table)\n",
    "df[\"inv-nodes\"] = table_df"
   ]
  },
  {
   "cell_type": "code",
   "execution_count": 2,
   "metadata": {},
   "outputs": [],
   "source": [
    "dummie_df = pd.get_dummies(df , columns = ['menopause' , 'node-caps' ,'breast' ,'breast-quad','irradiat'  ] , drop_first=True )"
   ]
  },
  {
   "cell_type": "code",
   "execution_count": 3,
   "metadata": {},
   "outputs": [
    {
     "data": {
      "text/html": [
       "<div>\n",
       "<style scoped>\n",
       "    .dataframe tbody tr th:only-of-type {\n",
       "        vertical-align: middle;\n",
       "    }\n",
       "\n",
       "    .dataframe tbody tr th {\n",
       "        vertical-align: top;\n",
       "    }\n",
       "\n",
       "    .dataframe thead th {\n",
       "        text-align: right;\n",
       "    }\n",
       "</style>\n",
       "<table border=\"1\" class=\"dataframe\">\n",
       "  <thead>\n",
       "    <tr style=\"text-align: right;\">\n",
       "      <th></th>\n",
       "      <th>Class</th>\n",
       "      <th>age</th>\n",
       "      <th>tumor-size</th>\n",
       "      <th>inv-nodes</th>\n",
       "      <th>deg-malig</th>\n",
       "      <th>menopause_lt40</th>\n",
       "      <th>menopause_premeno</th>\n",
       "      <th>node-caps_yes</th>\n",
       "      <th>breast_right</th>\n",
       "      <th>breast-quad_left_low</th>\n",
       "      <th>breast-quad_left_up</th>\n",
       "      <th>breast-quad_right_low</th>\n",
       "      <th>breast-quad_right_up</th>\n",
       "      <th>irradiat_yes</th>\n",
       "    </tr>\n",
       "  </thead>\n",
       "  <tbody>\n",
       "    <tr>\n",
       "      <th>0</th>\n",
       "      <td>no-recurrence-events</td>\n",
       "      <td>1</td>\n",
       "      <td>6</td>\n",
       "      <td>0</td>\n",
       "      <td>3</td>\n",
       "      <td>0</td>\n",
       "      <td>1</td>\n",
       "      <td>0</td>\n",
       "      <td>0</td>\n",
       "      <td>1</td>\n",
       "      <td>0</td>\n",
       "      <td>0</td>\n",
       "      <td>0</td>\n",
       "      <td>0</td>\n",
       "    </tr>\n",
       "    <tr>\n",
       "      <th>1</th>\n",
       "      <td>no-recurrence-events</td>\n",
       "      <td>2</td>\n",
       "      <td>4</td>\n",
       "      <td>0</td>\n",
       "      <td>2</td>\n",
       "      <td>0</td>\n",
       "      <td>1</td>\n",
       "      <td>0</td>\n",
       "      <td>1</td>\n",
       "      <td>0</td>\n",
       "      <td>0</td>\n",
       "      <td>0</td>\n",
       "      <td>1</td>\n",
       "      <td>0</td>\n",
       "    </tr>\n",
       "    <tr>\n",
       "      <th>2</th>\n",
       "      <td>no-recurrence-events</td>\n",
       "      <td>2</td>\n",
       "      <td>4</td>\n",
       "      <td>0</td>\n",
       "      <td>2</td>\n",
       "      <td>0</td>\n",
       "      <td>1</td>\n",
       "      <td>0</td>\n",
       "      <td>0</td>\n",
       "      <td>1</td>\n",
       "      <td>0</td>\n",
       "      <td>0</td>\n",
       "      <td>0</td>\n",
       "      <td>0</td>\n",
       "    </tr>\n",
       "    <tr>\n",
       "      <th>3</th>\n",
       "      <td>no-recurrence-events</td>\n",
       "      <td>4</td>\n",
       "      <td>3</td>\n",
       "      <td>0</td>\n",
       "      <td>2</td>\n",
       "      <td>0</td>\n",
       "      <td>0</td>\n",
       "      <td>0</td>\n",
       "      <td>1</td>\n",
       "      <td>0</td>\n",
       "      <td>1</td>\n",
       "      <td>0</td>\n",
       "      <td>0</td>\n",
       "      <td>0</td>\n",
       "    </tr>\n",
       "    <tr>\n",
       "      <th>4</th>\n",
       "      <td>no-recurrence-events</td>\n",
       "      <td>2</td>\n",
       "      <td>0</td>\n",
       "      <td>0</td>\n",
       "      <td>2</td>\n",
       "      <td>0</td>\n",
       "      <td>1</td>\n",
       "      <td>0</td>\n",
       "      <td>1</td>\n",
       "      <td>0</td>\n",
       "      <td>0</td>\n",
       "      <td>1</td>\n",
       "      <td>0</td>\n",
       "      <td>0</td>\n",
       "    </tr>\n",
       "    <tr>\n",
       "      <th>...</th>\n",
       "      <td>...</td>\n",
       "      <td>...</td>\n",
       "      <td>...</td>\n",
       "      <td>...</td>\n",
       "      <td>...</td>\n",
       "      <td>...</td>\n",
       "      <td>...</td>\n",
       "      <td>...</td>\n",
       "      <td>...</td>\n",
       "      <td>...</td>\n",
       "      <td>...</td>\n",
       "      <td>...</td>\n",
       "      <td>...</td>\n",
       "      <td>...</td>\n",
       "    </tr>\n",
       "    <tr>\n",
       "      <th>281</th>\n",
       "      <td>recurrence-events</td>\n",
       "      <td>1</td>\n",
       "      <td>6</td>\n",
       "      <td>0</td>\n",
       "      <td>2</td>\n",
       "      <td>0</td>\n",
       "      <td>1</td>\n",
       "      <td>0</td>\n",
       "      <td>0</td>\n",
       "      <td>0</td>\n",
       "      <td>1</td>\n",
       "      <td>0</td>\n",
       "      <td>0</td>\n",
       "      <td>0</td>\n",
       "    </tr>\n",
       "    <tr>\n",
       "      <th>282</th>\n",
       "      <td>recurrence-events</td>\n",
       "      <td>1</td>\n",
       "      <td>4</td>\n",
       "      <td>0</td>\n",
       "      <td>3</td>\n",
       "      <td>0</td>\n",
       "      <td>1</td>\n",
       "      <td>0</td>\n",
       "      <td>0</td>\n",
       "      <td>0</td>\n",
       "      <td>1</td>\n",
       "      <td>0</td>\n",
       "      <td>0</td>\n",
       "      <td>1</td>\n",
       "    </tr>\n",
       "    <tr>\n",
       "      <th>283</th>\n",
       "      <td>recurrence-events</td>\n",
       "      <td>4</td>\n",
       "      <td>4</td>\n",
       "      <td>0</td>\n",
       "      <td>1</td>\n",
       "      <td>0</td>\n",
       "      <td>0</td>\n",
       "      <td>0</td>\n",
       "      <td>1</td>\n",
       "      <td>0</td>\n",
       "      <td>1</td>\n",
       "      <td>0</td>\n",
       "      <td>0</td>\n",
       "      <td>0</td>\n",
       "    </tr>\n",
       "    <tr>\n",
       "      <th>284</th>\n",
       "      <td>recurrence-events</td>\n",
       "      <td>2</td>\n",
       "      <td>6</td>\n",
       "      <td>1</td>\n",
       "      <td>3</td>\n",
       "      <td>0</td>\n",
       "      <td>0</td>\n",
       "      <td>0</td>\n",
       "      <td>0</td>\n",
       "      <td>1</td>\n",
       "      <td>0</td>\n",
       "      <td>0</td>\n",
       "      <td>0</td>\n",
       "      <td>0</td>\n",
       "    </tr>\n",
       "    <tr>\n",
       "      <th>285</th>\n",
       "      <td>recurrence-events</td>\n",
       "      <td>3</td>\n",
       "      <td>6</td>\n",
       "      <td>1</td>\n",
       "      <td>3</td>\n",
       "      <td>0</td>\n",
       "      <td>0</td>\n",
       "      <td>0</td>\n",
       "      <td>0</td>\n",
       "      <td>1</td>\n",
       "      <td>0</td>\n",
       "      <td>0</td>\n",
       "      <td>0</td>\n",
       "      <td>0</td>\n",
       "    </tr>\n",
       "  </tbody>\n",
       "</table>\n",
       "<p>286 rows × 14 columns</p>\n",
       "</div>"
      ],
      "text/plain": [
       "                    Class  age  tumor-size  inv-nodes  deg-malig  \\\n",
       "0    no-recurrence-events    1           6          0          3   \n",
       "1    no-recurrence-events    2           4          0          2   \n",
       "2    no-recurrence-events    2           4          0          2   \n",
       "3    no-recurrence-events    4           3          0          2   \n",
       "4    no-recurrence-events    2           0          0          2   \n",
       "..                    ...  ...         ...        ...        ...   \n",
       "281     recurrence-events    1           6          0          2   \n",
       "282     recurrence-events    1           4          0          3   \n",
       "283     recurrence-events    4           4          0          1   \n",
       "284     recurrence-events    2           6          1          3   \n",
       "285     recurrence-events    3           6          1          3   \n",
       "\n",
       "     menopause_lt40  menopause_premeno  node-caps_yes  breast_right  \\\n",
       "0                 0                  1              0             0   \n",
       "1                 0                  1              0             1   \n",
       "2                 0                  1              0             0   \n",
       "3                 0                  0              0             1   \n",
       "4                 0                  1              0             1   \n",
       "..              ...                ...            ...           ...   \n",
       "281               0                  1              0             0   \n",
       "282               0                  1              0             0   \n",
       "283               0                  0              0             1   \n",
       "284               0                  0              0             0   \n",
       "285               0                  0              0             0   \n",
       "\n",
       "     breast-quad_left_low  breast-quad_left_up  breast-quad_right_low  \\\n",
       "0                       1                    0                      0   \n",
       "1                       0                    0                      0   \n",
       "2                       1                    0                      0   \n",
       "3                       0                    1                      0   \n",
       "4                       0                    0                      1   \n",
       "..                    ...                  ...                    ...   \n",
       "281                     0                    1                      0   \n",
       "282                     0                    1                      0   \n",
       "283                     0                    1                      0   \n",
       "284                     1                    0                      0   \n",
       "285                     1                    0                      0   \n",
       "\n",
       "     breast-quad_right_up  irradiat_yes  \n",
       "0                       0             0  \n",
       "1                       1             0  \n",
       "2                       0             0  \n",
       "3                       0             0  \n",
       "4                       0             0  \n",
       "..                    ...           ...  \n",
       "281                     0             0  \n",
       "282                     0             1  \n",
       "283                     0             0  \n",
       "284                     0             0  \n",
       "285                     0             0  \n",
       "\n",
       "[286 rows x 14 columns]"
      ]
     },
     "execution_count": 3,
     "metadata": {},
     "output_type": "execute_result"
    }
   ],
   "source": [
    "dummie_df\n"
   ]
  },
  {
   "cell_type": "code",
   "execution_count": 4,
   "metadata": {},
   "outputs": [],
   "source": [
    "dummie_df[\"Class\"] = dummie_df[\"Class\"].replace(\"no-recurrence-events\", 0)\n",
    "dummie_df[\"Class\"] = dummie_df[\"Class\"].replace(\"recurrence-events\", 1)"
   ]
  },
  {
   "cell_type": "markdown",
   "metadata": {},
   "source": [
    "### SPLIT"
   ]
  },
  {
   "cell_type": "code",
   "execution_count": 5,
   "metadata": {},
   "outputs": [],
   "source": [
    "\n",
    "from sklearn.model_selection import train_test_split\n",
    "data  = dummie_df.drop(columns='Class')\n",
    "# for i in full_dataset:\n",
    "#     print(full_dataset[i])\n",
    "\n",
    "res = dummie_df[\"Class\"]\n",
    "\n",
    "# Split dataset into training set and test set\n",
    "X_train, X_test, y_train, y_test = train_test_split(data, res, test_size=0.5,random_state=30) # 80% training and 20% test"
   ]
  },
  {
   "cell_type": "markdown",
   "metadata": {},
   "source": [
    "### train the algorithms "
   ]
  },
  {
   "cell_type": "code",
   "execution_count": 6,
   "metadata": {},
   "outputs": [
    {
     "name": "stderr",
     "output_type": "stream",
     "text": [
      "C:\\Users\\tzav2\\anaconda3\\lib\\site-packages\\sklearn\\utils\\deprecation.py:144: FutureWarning: The sklearn.ensemble.forest module is  deprecated in version 0.22 and will be removed in version 0.24. The corresponding classes / functions should instead be imported from sklearn.ensemble. Anything that cannot be imported from sklearn.ensemble is now part of the private API.\n",
      "  warnings.warn(message, FutureWarning)\n"
     ]
    },
    {
     "data": {
      "text/plain": [
       "KNeighborsClassifier(algorithm='auto', leaf_size=30, metric='minkowski',\n",
       "                     metric_params=None, n_jobs=None, n_neighbors=2, p=2,\n",
       "                     weights='uniform')"
      ]
     },
     "execution_count": 6,
     "metadata": {},
     "output_type": "execute_result"
    }
   ],
   "source": [
    "# RANDOM FOREST CLASSIFIER\n",
    "from sklearn.ensemble.forest import RandomForestClassifier\n",
    "clf = RandomForestClassifier( n_estimators=100 , random_state= 0)\n",
    "clf.fit(X_train ,y_train)\n",
    "\n",
    "#SVM kernel = linear \n",
    "from sklearn.svm import SVC\n",
    "svm_lin = SVC(kernel='linear') \n",
    "svm_lin.fit(X_train, y_train)\n",
    "\n",
    "# SVM kerner = rbf \n",
    "svm_rbf = SVC(kernel= 'rbf')\n",
    "svm_rbf.fit(X_train, y_train)\n",
    "\n",
    "#KNN n_neighbors =2\n",
    "from sklearn.neighbors import KNeighborsClassifier\n",
    "knn = KNeighborsClassifier( n_neighbors=2 )\n",
    "knn.fit(X_train, y_train)\n"
   ]
  },
  {
   "cell_type": "markdown",
   "metadata": {},
   "source": [
    "### print ACCURACIES "
   ]
  },
  {
   "cell_type": "code",
   "execution_count": 7,
   "metadata": {},
   "outputs": [
    {
     "name": "stdout",
     "output_type": "stream",
     "text": [
      "=========================\n",
      "Accuracy score for RF :    0.6783216783216783\n",
      "F1 score for : RF :        0.25806451612903225\n",
      "auc curve accuracy for RF :  0.5380232558139534 \n",
      "recall score for RF : 0.18604651162790697 \n",
      "=========================\n",
      "Accuracy score for KNN :    0.7062937062937062\n",
      "F1 score for : KNN :        0.22222222222222218\n",
      "auc curve accuracy for KNN :  0.5447674418604651 \n",
      "recall score for KNN : 0.13953488372093023 \n",
      "=========================\n",
      "Accuracy score for SVM (linear) :    0.6713286713286714\n",
      "F1 score for : SVM (linear) :        0.3380281690140845\n",
      "auc curve accuracy for SVM (linear) :  0.5595348837209302 \n",
      "recall score for SVM (linear) : 0.27906976744186046 \n",
      "=========================\n",
      "Accuracy score for SVM(RBF) :    0.6853146853146853\n",
      "F1 score for : SVM(RBF) :        0.1176470588235294\n",
      "auc curve accuracy for SVM(RBF) :  0.5098837209302325 \n",
      "recall score for SVM(RBF) : 0.06976744186046512 \n"
     ]
    }
   ],
   "source": [
    "list_of_models = [clf, knn,svm_lin, svm_rbf   ]\n",
    "names = ['RF' , 'KNN' , 'SVM (linear)' , 'SVM(RBF)']\n",
    "j=-1\n",
    "accuracy_from_origin={}\n",
    "AUC_origin = {}\n",
    "for i in list_of_models:\n",
    "    print(\"=\"*25)\n",
    "    j+=1\n",
    "    y_pred = i.predict(X_test)\n",
    "    print(\"Accuracy score for {} :    {}\".format(names[j] , accuracy_score(y_test , y_pred) ))\n",
    "    print(\"F1 score for : {} :        {}\".format(names[j],f1_score(y_test, y_pred)))\n",
    "    print(\"auc curve accuracy for {} :  {} \".format( names[j], roc(y_test, y_pred)))\n",
    "    print(\"recall score for {} : {} \".format(names[j] , recall_score(y_test , y_pred)))\n",
    "    accuracy_from_origin[names[j]]= accuracy_score(y_test,y_pred)\n",
    "    AUC_origin[names[j]] = roc(y_test,y_pred)"
   ]
  },
  {
   "cell_type": "code",
   "execution_count": 8,
   "metadata": {},
   "outputs": [
    {
     "data": {
      "text/plain": [
       "dict_values([0.6783216783216783, 0.7062937062937062, 0.6713286713286714, 0.6853146853146853])"
      ]
     },
     "execution_count": 8,
     "metadata": {},
     "output_type": "execute_result"
    }
   ],
   "source": [
    "#over sample the set \n",
    "accuracy_from_origin.values()"
   ]
  },
  {
   "cell_type": "code",
   "execution_count": 9,
   "metadata": {},
   "outputs": [
    {
     "data": {
      "image/png": "[encoded data removed]",
      "text/plain": [
       "<Figure size 432x288 with 1 Axes>"
      ]
     },
     "metadata": {
      "needs_background": "light"
     },
     "output_type": "display_data"
    }
   ],
   "source": [
    "import matplotlib.pyplot as plt\n",
    "import seaborn as sns\n",
    "\n",
    "sns.barplot(  list ( accuracy_from_origin.keys() ) , list(accuracy_from_origin.values()) )\n",
    "plt.ylim([0,0.8])\n",
    "plt.grid()"
   ]
  },
  {
   "cell_type": "markdown",
   "metadata": {},
   "source": [
    "## OVER SAMPLING with SMOTE"
   ]
  },
  {
   "cell_type": "code",
   "execution_count": 15,
   "metadata": {},
   "outputs": [],
   "source": [
    "from imblearn.over_sampling import SMOTE \n",
    "from collections import Counter\n",
    "oversampling = SMOTE()\n",
    "data_over , res_over = oversampling.fit_resample(data ,res )\n",
    "Counter(res_over)\n",
    "X_train, X_test, y_train, y_test = train_test_split(data_over, res_over, test_size=0.2,random_state=30) # 80% training and 20% test"
   ]
  },
  {
   "cell_type": "code",
   "execution_count": 16,
   "metadata": {},
   "outputs": [
    {
     "data": {
      "text/plain": [
       "KNeighborsClassifier(algorithm='auto', leaf_size=30, metric='minkowski',\n",
       "                     metric_params=None, n_jobs=None, n_neighbors=2, p=2,\n",
       "                     weights='uniform')"
      ]
     },
     "execution_count": 16,
     "metadata": {},
     "output_type": "execute_result"
    }
   ],
   "source": [
    "# RANDOM FOREST CLASSIFIER\n",
    "from sklearn.ensemble.forest import RandomForestClassifier\n",
    "clf = RandomForestClassifier( n_estimators=100 , random_state= 0)\n",
    "clf.fit(X_train ,y_train)\n",
    "\n",
    "#SVM kernel = linear \n",
    "from sklearn.svm import SVC\n",
    "svm_lin = SVC(kernel='linear') \n",
    "svm_lin.fit(X_train, y_train)\n",
    "\n",
    "# SVM kerner = rbf \n",
    "svm_rbf = SVC(kernel= 'rbf')\n",
    "svm_rbf.fit(X_train, y_train)\n",
    "\n",
    "#KNN n_neighbors =2\n",
    "from sklearn.neighbors import KNeighborsClassifier\n",
    "knn = KNeighborsClassifier( n_neighbors=2 )\n",
    "knn.fit(X_train, y_train)\n"
   ]
  },
  {
   "cell_type": "markdown",
   "metadata": {},
   "source": [
    "### accuracies after over sampling with smote"
   ]
  },
  {
   "cell_type": "code",
   "execution_count": 17,
   "metadata": {},
   "outputs": [
    {
     "name": "stdout",
     "output_type": "stream",
     "text": [
      "=========================\n",
      "Accuracy score for RF :    0.7160493827160493\n",
      "F1 score for : RF :        0.7415730337078651\n",
      "auc curve accuracy for RF :  0.714939024390244 \n",
      "recall score for RF :     0.8048780487804879 \n",
      "=========================\n",
      "Accuracy score for KNN :    0.691358024691358\n",
      "F1 score for : KNN :        0.6913580246913581\n",
      "auc curve accuracy for KNN :  0.6914634146341463 \n",
      "recall score for KNN :     0.6829268292682927 \n",
      "=========================\n",
      "Accuracy score for SVM (linear) :    0.6049382716049383\n",
      "F1 score for : SVM (linear) :        0.627906976744186\n",
      "auc curve accuracy for SVM (linear) :  0.6042682926829269 \n",
      "recall score for SVM (linear) :     0.6585365853658537 \n",
      "=========================\n",
      "Accuracy score for SVM(RBF) :    0.6049382716049383\n",
      "F1 score for : SVM(RBF) :        0.6363636363636364\n",
      "auc curve accuracy for SVM(RBF) :  0.6039634146341464 \n",
      "recall score for SVM(RBF) :     0.6829268292682927 \n"
     ]
    }
   ],
   "source": [
    "list_of_models = [clf, knn,svm_lin, svm_rbf   ]\n",
    "names = ['RF' , 'KNN' , 'SVM (linear)' , 'SVM(RBF)']\n",
    "j=-1\n",
    "accuracy_from_SMOTE = {}\n",
    "AUC_SMOTE = {}\n",
    "for i in list_of_models:\n",
    "    print(\"=\"*25)\n",
    "    j+=1\n",
    "    y_pred = i.predict(X_test)\n",
    "    print(\"Accuracy score for {} :    {}\".format(names[j] , accuracy_score(y_test , y_pred) ))\n",
    "    print(\"F1 score for : {} :        {}\".format(names[j],f1_score(y_test, y_pred)))\n",
    "    print(\"auc curve accuracy for {} :  {} \".format( names[j], roc(y_test, y_pred)))\n",
    "    print(\"recall score for {} :     {} \".format(names[j] , recall_score(y_test , y_pred)))\n",
    "    accuracy_from_SMOTE[names[j]]= accuracy_score(y_test,y_pred)\n",
    "    AUC_SMOTE[names[j]] = roc(y_test,y_pred)\n",
    "    "
   ]
  },
  {
   "cell_type": "code",
   "execution_count": 18,
   "metadata": {},
   "outputs": [
    {
     "data": {
      "image/png": "[encoded data removed]",
      "text/plain": [
       "<Figure size 432x288 with 1 Axes>"
      ]
     },
     "metadata": {
      "needs_background": "light"
     },
     "output_type": "display_data"
    }
   ],
   "source": [
    "sns.barplot(  list ( accuracy_from_SMOTE.keys() ) , list(accuracy_from_SMOTE.values()) )\n",
    "plt.ylim([0,0.8])\n",
    "plt.grid()"
   ]
  },
  {
   "cell_type": "markdown",
   "metadata": {},
   "source": [
    "### OVER SAMPLING WITH RandomOverSampler "
   ]
  },
  {
   "cell_type": "code",
   "execution_count": 21,
   "metadata": {},
   "outputs": [],
   "source": [
    "# random overampler \n",
    "from imblearn.over_sampling import RandomOverSampler\n",
    "ros = RandomOverSampler(random_state = 0)\n",
    "data_over , res_over = ros.fit_resample(data ,res )\n",
    "Counter(res_over)\n",
    "X_train, X_test, y_train, y_test = train_test_split(data_over, res_over, test_size=0.2,random_state=30) # 80% training and 20% test"
   ]
  },
  {
   "cell_type": "code",
   "execution_count": 22,
   "metadata": {},
   "outputs": [
    {
     "name": "stdout",
     "output_type": "stream",
     "text": [
      "=========================\n",
      "Accuracy score for RF :    0.7037037037037037\n",
      "F1 score for : RF :        0.7272727272727273\n",
      "auc curve accuracy for RF :  0.7027439024390244 \n",
      "recall score for RF :     0.7804878048780488 \n",
      "=========================\n",
      "Accuracy score for KNN :    0.5925925925925926\n",
      "F1 score for : KNN :        0.547945205479452\n",
      "auc curve accuracy for KNN :  0.5939024390243902 \n",
      "recall score for KNN :     0.4878048780487805 \n",
      "=========================\n",
      "Accuracy score for SVM (linear) :    0.5308641975308642\n",
      "F1 score for : SVM (linear) :        0.525\n",
      "auc curve accuracy for SVM (linear) :  0.5310975609756098 \n",
      "recall score for SVM (linear) :     0.5121951219512195 \n",
      "=========================\n",
      "Accuracy score for SVM(RBF) :    0.5802469135802469\n",
      "F1 score for : SVM(RBF) :        0.6046511627906976\n",
      "auc curve accuracy for SVM(RBF) :  0.5795731707317073 \n",
      "recall score for SVM(RBF) :     0.6341463414634146 \n"
     ]
    }
   ],
   "source": [
    "list_of_models = [clf, knn,svm_lin, svm_rbf   ]\n",
    "names = ['RF' , 'KNN' , 'SVM (linear)' , 'SVM(RBF)']\n",
    "j=-1\n",
    "accuracy_from_R = {}\n",
    "AUC_R = {}\n",
    "for i in list_of_models:\n",
    "    print(\"=\"*25)\n",
    "    j+=1\n",
    "    y_pred = i.predict(X_test)\n",
    "    print(\"Accuracy score for {} :    {}\".format(names[j] , accuracy_score(y_test , y_pred) ))\n",
    "    print(\"F1 score for : {} :        {}\".format(names[j],f1_score(y_test, y_pred)))\n",
    "    print(\"auc curve accuracy for {} :  {} \".format( names[j], roc(y_test, y_pred)))\n",
    "    print(\"recall score for {} :     {} \".format(names[j] , recall_score(y_test , y_pred)))\n",
    "    accuracy_from_R[names[j]]= accuracy_score(y_test,y_pred)\n",
    "    AUC_R[names[j]] = roc(y_test,y_pred)\n",
    "    "
   ]
  },
  {
   "cell_type": "code",
   "execution_count": 23,
   "metadata": {},
   "outputs": [
    {
     "data": {
      "image/png": "[encoded data removed]",
      "text/plain": [
       "<Figure size 432x288 with 1 Axes>"
      ]
     },
     "metadata": {
      "needs_background": "light"
     },
     "output_type": "display_data"
    }
   ],
   "source": [
    "sns.barplot(  list ( accuracy_from_R.keys() ) , list(accuracy_from_R.values()) )\n",
    "plt.ylim([0,0.8])\n",
    "plt.grid()"
   ]
  },
  {
   "cell_type": "markdown",
   "metadata": {},
   "source": [
    "## NEXT WITHOUT  One Hot Encoding "
   ]
  }
 ],
 "metadata": {
  "kernelspec": {
   "display_name": "Python 3",
   "language": "python",
   "name": "python3"
  },
  "language_info": {
   "codemirror_mode": {
    "name": "ipython",
    "version": 3
   },
   "file_extension": ".py",
   "mimetype": "text/x-python",
   "name": "python",
   "nbconvert_exporter": "python",
   "pygments_lexer": "ipython3",
   "version": "3.7.6"
  }
 },
 "nbformat": 4,
 "nbformat_minor": 4
}
