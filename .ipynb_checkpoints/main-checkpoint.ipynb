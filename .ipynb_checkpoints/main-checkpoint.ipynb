{
 "cells": [
  {
   "cell_type": "code",
   "execution_count": null,
   "metadata": {},
   "outputs": [],
   "source": [
    "import pandas as pd\n",
    "import numpy as np"
   ]
  },
  {
   "cell_type": "code",
   "execution_count": null,
   "metadata": {},
   "outputs": [],
   "source": [
    "atributes = [ 'Class', 'age', 'menopause', 'tumor-size' ,'inv-nodes', 'node-caps', 'deg-malig' ,'breast', 'breast-quad', 'irradiat']\n",
    "missing = [np.nan , None , \"\" , \"?\"]\n",
    "df = pd.read_csv('./data/breast-cancer.csv', names=atributes, na_values=missing) \n",
    "print(df.head())"
   ]
  },
  {
   "cell_type": "code",
   "execution_count": null,
   "metadata": {},
   "outputs": [],
   "source": [
    "for i in df:\n",
    "    print(df[i].unique())\n",
    "print(df.size)\n"
   ]
  },
  {
   "cell_type": "code",
   "execution_count": null,
   "metadata": {},
   "outputs": [],
   "source": [
    "for i in df:\n",
    "    print('Sum values for {} : \\n {} '.format(i, df[i].value_counts()))\n",
    "    print('=='*10)"
   ]
  },
  {
   "cell_type": "code",
   "execution_count": null,
   "metadata": {},
   "outputs": [],
   "source": [
    "for i in df:\n",
    "    print(\"sum of nans in {} : {} \".format(i,df[i].isna().sum() ))\n",
    "print(df)"
   ]
  },
  {
   "cell_type": "code",
   "execution_count": null,
   "metadata": {},
   "outputs": [],
   "source": [
    "#mono 9 nan exei as ta diagrapsoume \n",
    "df[\"node-caps\"].dropna(how='any', inplace=True)\n",
    "df[\"breast-quad\"].dropna(how='any', inplace=True)\n",
    "\n",
    "print(df[\"node-caps\"].unique(), df[\"breast-quad\"].unique())\n",
    "\n"
   ]
  },
  {
   "cell_type": "markdown",
   "metadata": {},
   "source": [
    "### convert the strings (ages, tumor-size,inv-nodes) into numericals"
   ]
  },
  {
   "cell_type": "markdown",
   "metadata": {},
   "source": [
    "# # Machine Learning"
   ]
  },
  {
   "cell_type": "code",
   "execution_count": null,
   "metadata": {},
   "outputs": [],
   "source": [
    "# '30-39' '40-49' '60-69' '50-59' '70-79' '20-29'\n",
    "ages = []\n",
    "for row in df[\"age\"]:\n",
    "    if row == \"20-29\":\n",
    "        ages.append(0)\n",
    "    elif row == \"30-39\":\n",
    "        ages.append(1)\n",
    "    elif row == \"40-49\":\n",
    "        ages.append(2)\n",
    "    elif row == \"50-59\":\n",
    "        ages.append(3)\n",
    "    elif row == \"60-69\":\n",
    "        ages.append(4)\n",
    "    elif row == \"70-79\":\n",
    "        ages.append(5)\n",
    "    else :\n",
    "        ages.append(6)\n",
    "        \n",
    "# print(ages)\n",
    "ages_df = pd.DataFrame(ages)\n",
    "df[\"age\"] = ages_df\n",
    "# print(df[\"ages\"])\n",
    "\n",
    "### gia tumor-size\n",
    "sizes_table = []\n",
    "for row in df[\"tumor-size\"]:\n",
    "#     print(row)\n",
    "    if row == '0-4':\n",
    "        sizes_table.append(0)\n",
    "    elif row == '5-9':\n",
    "        sizes_table.append(1)\n",
    "    elif row == '10-14':\n",
    "        sizes_table.append(2)\n",
    "    elif row == '15-19':\n",
    "        sizes_table.append(3)\n",
    "    elif row == '20-24':\n",
    "        sizes_table.append(4)\n",
    "    elif row == '25-29':\n",
    "        sizes_table.append(5)\n",
    "    elif row == '30-34':\n",
    "        sizes_table.append(6)       \n",
    "    elif row == '35-39':\n",
    "        sizes_table.append(7)       \n",
    "    elif row == '40-44':\n",
    "        sizes_table.append(8)\n",
    "    elif row == '45-49':\n",
    "        sizes_table.append(9)\n",
    "    elif row == '50-54' :\n",
    "        sizes_table.append(10)\n",
    "        \n",
    "# print(sizes_table)\n",
    "sizes_table_df = pd.DataFrame(sizes_table)\n",
    "df[\"tumor-size\"] = sizes_table_df\n",
    "# print(df[\"tumor-size\"])\n",
    "\n",
    "\n",
    "### '0-2' '6-8' '9-11' '3-5' '15-17' '12-14' '24-26'\n",
    "### gia inv-nodes\n",
    "table = []\n",
    "for row in df[\"inv-nodes\"]:\n",
    "#     print(row)\n",
    "    if row == '0-2':\n",
    "        table.append(0)\n",
    "    elif row == '3-5':\n",
    "        table.append(1)\n",
    "    elif row == '6-8':\n",
    "        table.append(2)\n",
    "    elif row == '9-11':\n",
    "        table.append(3)\n",
    "    elif row == '12-14':\n",
    "        table.append(4)\n",
    "    elif row == '15-17':\n",
    "        table.append(5)\n",
    "    elif row == '24-26':\n",
    "        table.append(6)       \n",
    "    \n",
    "        \n",
    "# print(sizes_table)\n",
    "table_df = pd.DataFrame(table)\n",
    "df[\"inv-nodes\"] = table_df\n",
    "# print(df[\"tumor-size\"])\n",
    "del df['irradiat']\n",
    "\n",
    "breast_table = []\n",
    "for row in df[\"breast\"]:\n",
    "#     print(row)\n",
    "    if row == 'left':\n",
    "        breast_table.append(0)\n",
    "    elif row == 'right':\n",
    "        breast_table.append(1)\n",
    "\n",
    "# print(breast_table)\n",
    "breast_table_df = pd.DataFrame(breast_table)\n",
    "df[\"breast\"] = breast_table_df\n",
    "\n",
    "\n",
    "df[\"node-caps\"] = df[\"node-caps\"].replace(\"yes\",1)\n",
    "df[\"node-caps\"] = df[\"node-caps\"].replace(\"no\",0)\n",
    "\n",
    "df[\"menopause\"] = df[\"menopause\"].replace(\"premeno\",0)\n",
    "df[\"menopause\"] = df[\"menopause\"].replace(\"ge40\",1)\n",
    "df[\"menopause\"] = df[\"menopause\"].replace(\"lt40\",2)\n",
    "\n",
    "df[\"Class\"] = df[\"Class\"].replace(\"no-recurrence-events\", 0)\n",
    "df[\"Class\"] = df[\"Class\"].replace(\"recurrence-events\", 1)\n",
    "\n",
    "df[\"breast-quad\"] = df[\"breast-quad\"].replace(\"left_low\",0)\n",
    "df[\"breast-quad\"] = df[\"breast-quad\"].replace(\"right_up\",1)\n",
    "df[\"breast-quad\"] = df[\"breast-quad\"].replace(\"left_up\",2)\n",
    "df[\"breast-quad\"] = df[\"breast-quad\"].replace(\"right_low\",3)\n",
    "df[\"breast-quad\"] = df[\"breast-quad\"].replace(\"central\",4)\n",
    "\n",
    "# df['breast-quad'] = df['breast-quad'].astype(integer)\n",
    "# df['node-caps'] = df['node-caps'].astype(int)\n",
    "df = df.fillna(200)\n",
    "\n",
    "# df[\"node-caps\"].dropna(how='any', inplace=True)\n",
    "# df[\"breast-quad\"].dropna(how='any', inplace=True)\n",
    "\n",
    "print(df[\"node-caps\"].unique(), df[\"breast-quad\"].unique())\n",
    "\n",
    "df['breast-quad'] = df['breast-quad'].astype(np.int64)\n",
    "df['node-caps'] = df['node-caps'].astype(np.int64)\n",
    "\n",
    "    \n",
    "    \n"
   ]
  },
  {
   "cell_type": "code",
   "execution_count": null,
   "metadata": {},
   "outputs": [],
   "source": [
    "# print(df.head())\n",
    "print(df[\"node-caps\"].unique())\n",
    "df.dtypes"
   ]
  },
  {
   "cell_type": "markdown",
   "metadata": {},
   "source": [
    "### svm"
   ]
  },
  {
   "cell_type": "code",
   "execution_count": null,
   "metadata": {},
   "outputs": [],
   "source": [
    "# Import train_test_split function\n",
    "from sklearn.model_selection import train_test_split\n",
    "\n",
    "data = df[[\"age\", \"menopause\", \"tumor-size\" , \"inv-nodes\" ,\"node-caps\", \"deg-malig\" , \"breast\", \"breast-quad\"]]\n",
    "# for i in full_dataset:\n",
    "#     print(full_dataset[i])\n",
    "\n",
    "res = df[\"Class\"]\n",
    "\n",
    "# Split dataset into training set and test set\n",
    "X_train, X_test, y_train, y_test = train_test_split(data, res, test_size=0.5,random_state=30) # 80% training and 20% test\n",
    "\n",
    "\n",
    "\n",
    "#Import svm model\n",
    "from sklearn import svm\n",
    "\n",
    "#Create a svm Classifier\n",
    "clf = svm.SVC(kernel='linear') # Linear Kernel\n",
    "\n",
    "#Train the model using the training sets\n",
    "clf.fit(X_train, y_train)\n",
    "\n",
    "#Predict the response for test dataset\n",
    "y_pred = clf.predict(X_test)\n",
    "\n",
    "#Import scikit-learn metrics module for accuracy calculation\n",
    "from sklearn import metrics\n",
    "\n",
    "# Model Accuracy: how often is the classifier correct?\n",
    "print(\"Accuracy:\",metrics.accuracy_score(y_test, y_pred))"
   ]
  },
  {
   "cell_type": "code",
   "execution_count": null,
   "metadata": {},
   "outputs": [],
   "source": []
  },
  {
   "cell_type": "code",
   "execution_count": null,
   "metadata": {},
   "outputs": [],
   "source": []
  },
  {
   "cell_type": "code",
   "execution_count": null,
   "metadata": {},
   "outputs": [],
   "source": [
    "from yellowbrick.classifier import ClassificationReport\n",
    "# Instantiate the classification model and visualizer\n",
    "visualizer = ClassificationReport(clf)\n",
    "visualizer.fit(X_train, y_train) # Fit the training data to the visualizer\n",
    "visualizer.score(X_test, y_test) # Evaluate the model on the test data\n",
    "g = visualizer.poof() # Draw/show/poof the data\n"
   ]
  },
  {
   "cell_type": "code",
   "execution_count": null,
   "metadata": {},
   "outputs": [],
   "source": []
  }
 ],
 "metadata": {
  "kernelspec": {
   "display_name": "Python 3",
   "language": "python",
   "name": "python3"
  },
  "language_info": {
   "codemirror_mode": {
    "name": "ipython",
    "version": 3
   },
   "file_extension": ".py",
   "mimetype": "text/x-python",
   "name": "python",
   "nbconvert_exporter": "python",
   "pygments_lexer": "ipython3",
   "version": "3.7.4"
  }
 },
 "nbformat": 4,
 "nbformat_minor": 2
}
