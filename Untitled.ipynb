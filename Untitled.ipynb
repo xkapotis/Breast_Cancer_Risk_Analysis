{
 "cells": [
  {
   "cell_type": "code",
   "execution_count": 12,
   "metadata": {},
   "outputs": [],
   "source": [
    "import pandas as pd\n",
    "import numpy as np"
   ]
  },
  {
   "cell_type": "code",
   "execution_count": 49,
   "metadata": {},
   "outputs": [
    {
     "name": "stdout",
     "output_type": "stream",
     "text": [
      "                      0      1        2      3    4   5  6      7          8  \\\n",
      "0  no-recurrence-events  30-39  premeno  30-34  0-2  no  3   left   left_low   \n",
      "1  no-recurrence-events  40-49  premeno  20-24  0-2  no  2  right   right_up   \n",
      "2  no-recurrence-events  40-49  premeno  20-24  0-2  no  2   left   left_low   \n",
      "3  no-recurrence-events  60-69     ge40  15-19  0-2  no  2  right    left_up   \n",
      "4  no-recurrence-events  40-49  premeno    0-4  0-2  no  2  right  right_low   \n",
      "\n",
      "    9  \n",
      "0  no  \n",
      "1  no  \n",
      "2  no  \n",
      "3  no  \n",
      "4  no  \n"
     ]
    }
   ],
   "source": [
    "df = pd.read_csv('./data/breast-cancer.csv', header=None) \n",
    "print(df.head())"
   ]
  },
  {
   "cell_type": "markdown",
   "metadata": {},
   "source": [
    "# exei kati ? , ti tha t kanoume auta"
   ]
  },
  {
   "cell_type": "code",
   "execution_count": 47,
   "metadata": {},
   "outputs": [
    {
     "name": "stdout",
     "output_type": "stream",
     "text": [
      "['30-39' '40-49' '60-69' '50-59' '70-79' '20-29']\n",
      "['premeno' 'ge40' 'lt40']\n",
      "['30-34' '20-24' '15-19' '0-4' '25-29' '50-54' '10-14' '40-44' '35-39'\n",
      " '5-9' '45-49']\n",
      "['0-2' '6-8' '9-11' '3-5' '15-17' '12-14' '24-26']\n",
      "['no' 'yes' '?']\n",
      "[3 2 1]\n",
      "['left' 'right']\n",
      "['left_low' 'right_up' 'left_up' 'right_low' 'central' '?']\n",
      "['no' 'yes']\n"
     ]
    }
   ],
   "source": [
    "print(df[1].unique())\n",
    "print(df[2].unique())\n",
    "print(df[3].unique())\n",
    "print(df[4].unique())\n",
    "print(df[5].unique())\n",
    "print(df[6].unique())\n",
    "print(df[7].unique())\n",
    "print(df[8].unique())\n",
    "print(df[9].unique())\n"
   ]
  },
  {
   "cell_type": "code",
   "execution_count": null,
   "metadata": {},
   "outputs": [],
   "source": []
  }
 ],
 "metadata": {
  "kernelspec": {
   "display_name": "Python 3",
   "language": "python",
   "name": "python3"
  },
  "language_info": {
   "codemirror_mode": {
    "name": "ipython",
    "version": 3
   },
   "file_extension": ".py",
   "mimetype": "text/x-python",
   "name": "python",
   "nbconvert_exporter": "python",
   "pygments_lexer": "ipython3",
   "version": "3.7.4"
  }
 },
 "nbformat": 4,
 "nbformat_minor": 2
}
