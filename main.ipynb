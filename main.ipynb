{
 "cells": [
  {
   "cell_type": "code",
   "execution_count": 1,
   "metadata": {},
   "outputs": [],
   "source": [
    "import pandas as pd\n",
    "import numpy as np"
   ]
  },
  {
   "cell_type": "code",
   "execution_count": 17,
   "metadata": {},
   "outputs": [
    {
     "name": "stdout",
     "output_type": "stream",
     "text": [
      "                  Class    age menopause tumor-size inv-nodes node-caps  \\\n",
      "0  no-recurrence-events  30-39   premeno      30-34       0-2        no   \n",
      "1  no-recurrence-events  40-49   premeno      20-24       0-2        no   \n",
      "2  no-recurrence-events  40-49   premeno      20-24       0-2        no   \n",
      "3  no-recurrence-events  60-69      ge40      15-19       0-2        no   \n",
      "4  no-recurrence-events  40-49   premeno        0-4       0-2        no   \n",
      "\n",
      "   deg-malig breast breast-quad irradiat  \n",
      "0          3   left    left_low       no  \n",
      "1          2  right    right_up       no  \n",
      "2          2   left    left_low       no  \n",
      "3          2  right     left_up       no  \n",
      "4          2  right   right_low       no  \n"
     ]
    }
   ],
   "source": [
    "atributes = [ 'Class', 'age', 'menopause', 'tumor-size' ,'inv-nodes', 'node-caps', 'deg-malig' ,'breast', 'breast-quad', 'irradiat']\n",
    "df = pd.read_csv('./data/breast-cancer.csv', names=atributes, na_values='?') \n",
    "print(df.head())"
   ]
  },
  {
   "cell_type": "markdown",
   "metadata": {},
   "source": [
    "# exei kati ? , ti tha t kanoume auta     \n",
    "εβαλα στο read csv na_values = '?' ωστε να τα κάνει nan  στην συνεχεια θα τα μετρησω , 1) αν ειναι πολλά θα τα αντοικαταστίσω \n",
    "2) αν ειναι λίγα delete"
   ]
  },
  {
   "cell_type": "code",
   "execution_count": 25,
   "metadata": {},
   "outputs": [
    {
     "name": "stdout",
     "output_type": "stream",
     "text": [
      "['no-recurrence-events' 'recurrence-events']\n",
      "['30-39' '40-49' '60-69' '50-59' '70-79' '20-29']\n",
      "['premeno' 'ge40' 'lt40']\n",
      "['30-34' '20-24' '15-19' '0-4' '25-29' '50-54' '10-14' '40-44' '35-39'\n",
      " '5-9' '45-49']\n",
      "['0-2' '6-8' '9-11' '3-5' '15-17' '12-14' '24-26']\n",
      "['no' 'yes' nan]\n",
      "[3 2 1]\n",
      "['left' 'right']\n",
      "['left_low' 'right_up' 'left_up' 'right_low' 'central' nan]\n",
      "['no' 'yes']\n",
      "2860\n"
     ]
    }
   ],
   "source": [
    "for i in df:\n",
    "    print(df[i].unique())\n",
    "print(df.size)\n"
   ]
  },
  {
   "cell_type": "code",
   "execution_count": 24,
   "metadata": {},
   "outputs": [
    {
     "name": "stdout",
     "output_type": "stream",
     "text": [
      "Sum values for Class : \n",
      " no-recurrence-events    201\n",
      "recurrence-events        85\n",
      "Name: Class, dtype: int64 \n",
      "====================\n",
      "Sum values for age : \n",
      " 50-59    96\n",
      "40-49    90\n",
      "60-69    57\n",
      "30-39    36\n",
      "70-79     6\n",
      "20-29     1\n",
      "Name: age, dtype: int64 \n",
      "====================\n",
      "Sum values for menopause : \n",
      " premeno    150\n",
      "ge40       129\n",
      "lt40         7\n",
      "Name: menopause, dtype: int64 \n",
      "====================\n",
      "Sum values for tumor-size : \n",
      " 30-34    60\n",
      "25-29    54\n",
      "20-24    50\n",
      "15-19    30\n",
      "10-14    28\n",
      "40-44    22\n",
      "35-39    19\n",
      "0-4       8\n",
      "50-54     8\n",
      "5-9       4\n",
      "45-49     3\n",
      "Name: tumor-size, dtype: int64 \n",
      "====================\n",
      "Sum values for inv-nodes : \n",
      " 0-2      213\n",
      "3-5       36\n",
      "6-8       17\n",
      "9-11      10\n",
      "15-17      6\n",
      "12-14      3\n",
      "24-26      1\n",
      "Name: inv-nodes, dtype: int64 \n",
      "====================\n",
      "Sum values for node-caps : \n",
      " no     222\n",
      "yes     56\n",
      "Name: node-caps, dtype: int64 \n",
      "====================\n",
      "Sum values for deg-malig : \n",
      " 2    130\n",
      "3     85\n",
      "1     71\n",
      "Name: deg-malig, dtype: int64 \n",
      "====================\n",
      "Sum values for breast : \n",
      " left     152\n",
      "right    134\n",
      "Name: breast, dtype: int64 \n",
      "====================\n",
      "Sum values for breast-quad : \n",
      " left_low     110\n",
      "left_up       97\n",
      "right_up      33\n",
      "right_low     24\n",
      "central       21\n",
      "Name: breast-quad, dtype: int64 \n",
      "====================\n",
      "Sum values for irradiat : \n",
      " no     218\n",
      "yes     68\n",
      "Name: irradiat, dtype: int64 \n",
      "====================\n"
     ]
    }
   ],
   "source": [
    "for i in df:\n",
    "    print('Sum values for {} : \\n {} '.format(i, df[i].value_counts()))\n",
    "    print('=='*10)"
   ]
  },
  {
   "cell_type": "code",
   "execution_count": 20,
   "metadata": {},
   "outputs": [
    {
     "name": "stdout",
     "output_type": "stream",
     "text": [
      "sum of nans in Class : 0 \n",
      "sum of nans in age : 0 \n",
      "sum of nans in menopause : 0 \n",
      "sum of nans in tumor-size : 0 \n",
      "sum of nans in inv-nodes : 0 \n",
      "sum of nans in node-caps : 8 \n",
      "sum of nans in deg-malig : 0 \n",
      "sum of nans in breast : 0 \n",
      "sum of nans in breast-quad : 1 \n",
      "sum of nans in irradiat : 0 \n"
     ]
    }
   ],
   "source": [
    "for i in df:\n",
    "    print(\"sum of nans in {} : {} \".format(i,df[i].isna().sum() ))"
   ]
  },
  {
   "cell_type": "code",
   "execution_count": null,
   "metadata": {},
   "outputs": [],
   "source": [
    "#mono 9 nan exei as ta diagrapsoume \n"
   ]
  }
 ],
 "metadata": {
  "kernelspec": {
   "display_name": "Python 3",
   "language": "python",
   "name": "python3"
  },
  "language_info": {
   "codemirror_mode": {
    "name": "ipython",
    "version": 3
   },
   "file_extension": ".py",
   "mimetype": "text/x-python",
   "name": "python",
   "nbconvert_exporter": "python",
   "pygments_lexer": "ipython3",
   "version": "3.7.6"
  }
 },
 "nbformat": 4,
 "nbformat_minor": 2
}
