{
 "cells": [
  {
   "cell_type": "code",
   "execution_count": 1,
   "metadata": {},
   "outputs": [],
   "source": [
    "import pandas as pd\n",
    "import numpy as np"
   ]
  },
  {
   "cell_type": "code",
   "execution_count": 2,
   "metadata": {},
   "outputs": [
    {
     "name": "stdout",
     "output_type": "stream",
     "text": [
      "                  Class    age menopause tumor-size inv-nodes node-caps  \\\n",
      "0  no-recurrence-events  30-39   premeno      30-34       0-2        no   \n",
      "1  no-recurrence-events  40-49   premeno      20-24       0-2        no   \n",
      "2  no-recurrence-events  40-49   premeno      20-24       0-2        no   \n",
      "3  no-recurrence-events  60-69      ge40      15-19       0-2        no   \n",
      "4  no-recurrence-events  40-49   premeno        0-4       0-2        no   \n",
      "\n",
      "   deg-malig breast breast-quad irradiat  \n",
      "0          3   left    left_low       no  \n",
      "1          2  right    right_up       no  \n",
      "2          2   left    left_low       no  \n",
      "3          2  right     left_up       no  \n",
      "4          2  right   right_low       no  \n"
     ]
    }
   ],
   "source": [
    "atributes = [ 'Class', 'age', 'menopause', 'tumor-size' ,'inv-nodes', 'node-caps', 'deg-malig' ,'breast', 'breast-quad', 'irradiat']\n",
    "missing = [np.nan , None , \"\" , \"?\"]\n",
    "df = pd.read_csv('./data/breast-cancer.csv', names=atributes, na_values=missing) \n",
    "print(df.head())"
   ]
  },
  {
   "cell_type": "code",
   "execution_count": 3,
   "metadata": {},
   "outputs": [
    {
     "name": "stdout",
     "output_type": "stream",
     "text": [
      "['no-recurrence-events' 'recurrence-events']\n",
      "['30-39' '40-49' '60-69' '50-59' '70-79' '20-29']\n",
      "['premeno' 'ge40' 'lt40']\n",
      "['30-34' '20-24' '15-19' '0-4' '25-29' '50-54' '10-14' '40-44' '35-39'\n",
      " '5-9' '45-49']\n",
      "['0-2' '6-8' '9-11' '3-5' '15-17' '12-14' '24-26']\n",
      "['no' 'yes' nan]\n",
      "[3 2 1]\n",
      "['left' 'right']\n",
      "['left_low' 'right_up' 'left_up' 'right_low' 'central' nan]\n",
      "['no' 'yes']\n",
      "2860\n"
     ]
    }
   ],
   "source": [
    "for i in df:\n",
    "    print(df[i].unique())\n",
    "print(df.size)\n"
   ]
  },
  {
   "cell_type": "code",
   "execution_count": 4,
   "metadata": {},
   "outputs": [
    {
     "name": "stdout",
     "output_type": "stream",
     "text": [
      "Sum values for Class : \n",
      " no-recurrence-events    201\n",
      "recurrence-events        85\n",
      "Name: Class, dtype: int64 \n",
      "====================\n",
      "Sum values for age : \n",
      " 50-59    96\n",
      "40-49    90\n",
      "60-69    57\n",
      "30-39    36\n",
      "70-79     6\n",
      "20-29     1\n",
      "Name: age, dtype: int64 \n",
      "====================\n",
      "Sum values for menopause : \n",
      " premeno    150\n",
      "ge40       129\n",
      "lt40         7\n",
      "Name: menopause, dtype: int64 \n",
      "====================\n",
      "Sum values for tumor-size : \n",
      " 30-34    60\n",
      "25-29    54\n",
      "20-24    50\n",
      "15-19    30\n",
      "10-14    28\n",
      "40-44    22\n",
      "35-39    19\n",
      "50-54     8\n",
      "0-4       8\n",
      "5-9       4\n",
      "45-49     3\n",
      "Name: tumor-size, dtype: int64 \n",
      "====================\n",
      "Sum values for inv-nodes : \n",
      " 0-2      213\n",
      "3-5       36\n",
      "6-8       17\n",
      "9-11      10\n",
      "15-17      6\n",
      "12-14      3\n",
      "24-26      1\n",
      "Name: inv-nodes, dtype: int64 \n",
      "====================\n",
      "Sum values for node-caps : \n",
      " no     222\n",
      "yes     56\n",
      "Name: node-caps, dtype: int64 \n",
      "====================\n",
      "Sum values for deg-malig : \n",
      " 2    130\n",
      "3     85\n",
      "1     71\n",
      "Name: deg-malig, dtype: int64 \n",
      "====================\n",
      "Sum values for breast : \n",
      " left     152\n",
      "right    134\n",
      "Name: breast, dtype: int64 \n",
      "====================\n",
      "Sum values for breast-quad : \n",
      " left_low     110\n",
      "left_up       97\n",
      "right_up      33\n",
      "right_low     24\n",
      "central       21\n",
      "Name: breast-quad, dtype: int64 \n",
      "====================\n",
      "Sum values for irradiat : \n",
      " no     218\n",
      "yes     68\n",
      "Name: irradiat, dtype: int64 \n",
      "====================\n"
     ]
    }
   ],
   "source": [
    "for i in df:\n",
    "    print('Sum values for {} : \\n {} '.format(i, df[i].value_counts()))\n",
    "    print('=='*10)"
   ]
  },
  {
   "cell_type": "code",
   "execution_count": 5,
   "metadata": {},
   "outputs": [
    {
     "name": "stdout",
     "output_type": "stream",
     "text": [
      "sum of nans in Class : 0 \n",
      "sum of nans in age : 0 \n",
      "sum of nans in menopause : 0 \n",
      "sum of nans in tumor-size : 0 \n",
      "sum of nans in inv-nodes : 0 \n",
      "sum of nans in node-caps : 8 \n",
      "sum of nans in deg-malig : 0 \n",
      "sum of nans in breast : 0 \n",
      "sum of nans in breast-quad : 1 \n",
      "sum of nans in irradiat : 0 \n",
      "                    Class    age menopause tumor-size inv-nodes node-caps  \\\n",
      "0    no-recurrence-events  30-39   premeno      30-34       0-2        no   \n",
      "1    no-recurrence-events  40-49   premeno      20-24       0-2        no   \n",
      "2    no-recurrence-events  40-49   premeno      20-24       0-2        no   \n",
      "3    no-recurrence-events  60-69      ge40      15-19       0-2        no   \n",
      "4    no-recurrence-events  40-49   premeno        0-4       0-2        no   \n",
      "..                    ...    ...       ...        ...       ...       ...   \n",
      "281     recurrence-events  30-39   premeno      30-34       0-2        no   \n",
      "282     recurrence-events  30-39   premeno      20-24       0-2        no   \n",
      "283     recurrence-events  60-69      ge40      20-24       0-2        no   \n",
      "284     recurrence-events  40-49      ge40      30-34       3-5        no   \n",
      "285     recurrence-events  50-59      ge40      30-34       3-5        no   \n",
      "\n",
      "     deg-malig breast breast-quad irradiat  \n",
      "0            3   left    left_low       no  \n",
      "1            2  right    right_up       no  \n",
      "2            2   left    left_low       no  \n",
      "3            2  right     left_up       no  \n",
      "4            2  right   right_low       no  \n",
      "..         ...    ...         ...      ...  \n",
      "281          2   left     left_up       no  \n",
      "282          3   left     left_up      yes  \n",
      "283          1  right     left_up       no  \n",
      "284          3   left    left_low       no  \n",
      "285          3   left    left_low       no  \n",
      "\n",
      "[286 rows x 10 columns]\n"
     ]
    }
   ],
   "source": [
    "for i in df:\n",
    "    print(\"sum of nans in {} : {} \".format(i,df[i].isna().sum() ))\n",
    "print(df)"
   ]
  },
  {
   "cell_type": "code",
   "execution_count": 6,
   "metadata": {},
   "outputs": [
    {
     "name": "stdout",
     "output_type": "stream",
     "text": [
      "['no' 'yes'] ['left_low' 'right_up' 'left_up' 'right_low' 'central']\n"
     ]
    }
   ],
   "source": [
    "#mono 9 nan exei as ta diagrapsoume \n",
    "df[\"node-caps\"].dropna(how='any', inplace=True)\n",
    "df[\"breast-quad\"].dropna(how='any', inplace=True)\n",
    "\n",
    "print(df[\"node-caps\"].unique(), df[\"breast-quad\"].unique())\n",
    "\n"
   ]
  },
  {
   "cell_type": "markdown",
   "metadata": {},
   "source": [
    "### convert the strings (ages, tumor-size,inv-nodes) into numericals"
   ]
  },
  {
   "cell_type": "markdown",
   "metadata": {},
   "source": [
    "# # Machine Learning"
   ]
  },
  {
   "cell_type": "code",
   "execution_count": 7,
   "metadata": {},
   "outputs": [
    {
     "name": "stdout",
     "output_type": "stream",
     "text": [
      "[  0.   1. 200.] [  0.   1.   2.   3.   4. 200.]\n"
     ]
    }
   ],
   "source": [
    "# '30-39' '40-49' '60-69' '50-59' '70-79' '20-29'\n",
    "ages = []\n",
    "for row in df[\"age\"]:\n",
    "    if row == \"20-29\":\n",
    "        ages.append(0)\n",
    "    elif row == \"30-39\":\n",
    "        ages.append(1)\n",
    "    elif row == \"40-49\":\n",
    "        ages.append(2)\n",
    "    elif row == \"50-59\":\n",
    "        ages.append(3)\n",
    "    elif row == \"60-69\":\n",
    "        ages.append(4)\n",
    "    elif row == \"70-79\":\n",
    "        ages.append(5)\n",
    "    else :\n",
    "        ages.append(6)\n",
    "        \n",
    "# print(ages)\n",
    "ages_df = pd.DataFrame(ages)\n",
    "df[\"age\"] = ages_df\n",
    "# print(df[\"ages\"])\n",
    "\n",
    "### gia tumor-size\n",
    "sizes_table = []\n",
    "for row in df[\"tumor-size\"]:\n",
    "#     print(row)\n",
    "    if row == '0-4':\n",
    "        sizes_table.append(0)\n",
    "    elif row == '5-9':\n",
    "        sizes_table.append(1)\n",
    "    elif row == '10-14':\n",
    "        sizes_table.append(2)\n",
    "    elif row == '15-19':\n",
    "        sizes_table.append(3)\n",
    "    elif row == '20-24':\n",
    "        sizes_table.append(4)\n",
    "    elif row == '25-29':\n",
    "        sizes_table.append(5)\n",
    "    elif row == '30-34':\n",
    "        sizes_table.append(6)       \n",
    "    elif row == '35-39':\n",
    "        sizes_table.append(7)       \n",
    "    elif row == '40-44':\n",
    "        sizes_table.append(8)\n",
    "    elif row == '45-49':\n",
    "        sizes_table.append(9)\n",
    "    elif row == '50-54' :\n",
    "        sizes_table.append(10)\n",
    "        \n",
    "# print(sizes_table)\n",
    "sizes_table_df = pd.DataFrame(sizes_table)\n",
    "df[\"tumor-size\"] = sizes_table_df\n",
    "# print(df[\"tumor-size\"])\n",
    "\n",
    "\n",
    "### '0-2' '6-8' '9-11' '3-5' '15-17' '12-14' '24-26'\n",
    "### gia inv-nodes\n",
    "table = []\n",
    "for row in df[\"inv-nodes\"]:\n",
    "#     print(row)\n",
    "    if row == '0-2':\n",
    "        table.append(0)\n",
    "    elif row == '3-5':\n",
    "        table.append(1)\n",
    "    elif row == '6-8':\n",
    "        table.append(2)\n",
    "    elif row == '9-11':\n",
    "        table.append(3)\n",
    "    elif row == '12-14':\n",
    "        table.append(4)\n",
    "    elif row == '15-17':\n",
    "        table.append(5)\n",
    "    elif row == '24-26':\n",
    "        table.append(6)       \n",
    "    \n",
    "        \n",
    "# print(sizes_table)\n",
    "table_df = pd.DataFrame(table)\n",
    "df[\"inv-nodes\"] = table_df\n",
    "# print(df[\"tumor-size\"])\n",
    "del df['irradiat']\n",
    "\n",
    "breast_table = []\n",
    "for row in df[\"breast\"]:\n",
    "#     print(row)\n",
    "    if row == 'left':\n",
    "        breast_table.append(0)\n",
    "    elif row == 'right':\n",
    "        breast_table.append(1)\n",
    "\n",
    "# print(breast_table)\n",
    "breast_table_df = pd.DataFrame(breast_table)\n",
    "df[\"breast\"] = breast_table_df\n",
    "\n",
    "\n",
    "df[\"node-caps\"] = df[\"node-caps\"].replace(\"yes\",1)\n",
    "df[\"node-caps\"] = df[\"node-caps\"].replace(\"no\",0)\n",
    "\n",
    "df[\"menopause\"] = df[\"menopause\"].replace(\"premeno\",0)\n",
    "df[\"menopause\"] = df[\"menopause\"].replace(\"ge40\",1)\n",
    "df[\"menopause\"] = df[\"menopause\"].replace(\"lt40\",2)\n",
    "\n",
    "df[\"Class\"] = df[\"Class\"].replace(\"no-recurrence-events\", 0)\n",
    "df[\"Class\"] = df[\"Class\"].replace(\"recurrence-events\", 1)\n",
    "\n",
    "df[\"breast-quad\"] = df[\"breast-quad\"].replace(\"left_low\",0)\n",
    "df[\"breast-quad\"] = df[\"breast-quad\"].replace(\"right_up\",1)\n",
    "df[\"breast-quad\"] = df[\"breast-quad\"].replace(\"left_up\",2)\n",
    "df[\"breast-quad\"] = df[\"breast-quad\"].replace(\"right_low\",3)\n",
    "df[\"breast-quad\"] = df[\"breast-quad\"].replace(\"central\",4)\n",
    "\n",
    "# df['breast-quad'] = df['breast-quad'].astype(integer)\n",
    "# df['node-caps'] = df['node-caps'].astype(int)\n",
    "df = df.fillna(200)\n",
    "\n",
    "# df[\"node-caps\"].dropna(how='any', inplace=True)\n",
    "# df[\"breast-quad\"].dropna(how='any', inplace=True)\n",
    "\n",
    "print(df[\"node-caps\"].unique(), df[\"breast-quad\"].unique())\n",
    "\n",
    "df['breast-quad'] = df['breast-quad'].astype(np.int64)\n",
    "df['node-caps'] = df['node-caps'].astype(np.int64)\n",
    "\n",
    "    \n",
    "    \n"
   ]
  },
  {
   "cell_type": "code",
   "execution_count": 14,
   "metadata": {},
   "outputs": [
    {
     "name": "stdout",
     "output_type": "stream",
     "text": [
      "[0 1]\n",
      "[1 2 4 3 5 0]\n",
      "[0 1 2]\n",
      "[ 6  4  3  0  5 10  2  8  7  1  9]\n",
      "[0 2 3 1 5 4 6]\n",
      "[  0   1 200]\n",
      "[3 2 1]\n",
      "[0 1]\n",
      "[  0   1   2   3   4 200]\n"
     ]
    }
   ],
   "source": [
    "# print(df.head())\n",
    "print(df[\"Class\"].unique())\n",
    "print(df[\"age\"].unique())\n",
    "print(df[\"menopause\"].unique())\n",
    "print(df[\"tumor-size\"].unique())\n",
    "print(df[\"inv-nodes\"].unique())\n",
    "print(df[\"node-caps\"].unique())\n",
    "print(df[\"deg-malig\"].unique())\n",
    "print(df[\"breast\"].unique())\n",
    "print(df[\"breast-quad\"].unique())\n"
   ]
  },
  {
   "cell_type": "markdown",
   "metadata": {},
   "source": [
    "### svm"
   ]
  },
  {
   "cell_type": "code",
   "execution_count": 9,
   "metadata": {},
   "outputs": [
    {
     "name": "stdout",
     "output_type": "stream",
     "text": [
      "Accuracy: 0.7062937062937062\n"
     ]
    }
   ],
   "source": [
    "# Import train_test_split function\n",
    "from sklearn.model_selection import train_test_split\n",
    "\n",
    "data = df[[\"age\", \"menopause\", \"tumor-size\" , \"inv-nodes\" ,\"node-caps\", \"deg-malig\" , \"breast\", \"breast-quad\"]]\n",
    "# for i in full_dataset:\n",
    "#     print(full_dataset[i])\n",
    "\n",
    "res = df[\"Class\"]\n",
    "\n",
    "# Split dataset into training set and test set\n",
    "X_train, X_test, y_train, y_test = train_test_split(data, res, test_size=0.5,random_state=30) # 80% training and 20% test\n",
    "\n",
    "\n",
    "\n",
    "#Import svm model\n",
    "from sklearn import svm\n",
    "\n",
    "#Create a svm Classifier\n",
    "clf = svm.SVC(kernel='linear') # Linear Kernel\n",
    "\n",
    "#Train the model using the training sets\n",
    "clf.fit(X_train, y_train)\n",
    "\n",
    "#Predict the response for test dataset\n",
    "y_pred = clf.predict(X_test)\n",
    "\n",
    "#Import scikit-learn metrics module for accuracy calculation\n",
    "from sklearn import metrics\n",
    "\n",
    "# Model Accuracy: how often is the classifier correct?\n",
    "print(\"Accuracy:\",metrics.accuracy_score(y_test, y_pred))"
   ]
  },
  {
   "cell_type": "code",
   "execution_count": null,
   "metadata": {},
   "outputs": [],
   "source": []
  },
  {
   "cell_type": "code",
   "execution_count": null,
   "metadata": {},
   "outputs": [],
   "source": []
  },
  {
   "cell_type": "code",
   "execution_count": 10,
   "metadata": {},
   "outputs": [
    {
     "data": {
      "text/plain": [
       "<Figure size 800x550 with 2 Axes>"
      ]
     },
     "metadata": {},
     "output_type": "display_data"
    }
   ],
   "source": [
    "from yellowbrick.classifier import ClassificationReport\n",
    "# Instantiate the classification model and visualizer\n",
    "visualizer = ClassificationReport(clf)\n",
    "visualizer.fit(X_train, y_train) # Fit the training data to the visualizer\n",
    "visualizer.score(X_test, y_test) # Evaluate the model on the test data\n",
    "g = visualizer.poof() # Draw/show/poof the data\n"
   ]
  },
  {
   "cell_type": "code",
   "execution_count": null,
   "metadata": {},
   "outputs": [],
   "source": []
  }
 ],
 "metadata": {
  "kernelspec": {
   "display_name": "Python 3",
   "language": "python",
   "name": "python3"
  },
  "language_info": {
   "codemirror_mode": {
    "name": "ipython",
    "version": 3
   },
   "file_extension": ".py",
   "mimetype": "text/x-python",
   "name": "python",
   "nbconvert_exporter": "python",
   "pygments_lexer": "ipython3",
   "version": "3.7.4"
  }
 },
 "nbformat": 4,
 "nbformat_minor": 2
}
