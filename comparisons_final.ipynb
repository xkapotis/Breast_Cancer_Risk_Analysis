{
 "cells": [
  {
   "cell_type": "code",
   "execution_count": 1,
   "metadata": {},
   "outputs": [
    {
     "name": "stdout",
     "output_type": "stream",
     "text": [
      "                  Class    age menopause tumor-size inv-nodes node-caps  \\\n",
      "0  no-recurrence-events  30-39   premeno      30-34       0-2        no   \n",
      "1  no-recurrence-events  40-49   premeno      20-24       0-2        no   \n",
      "2  no-recurrence-events  40-49   premeno      20-24       0-2        no   \n",
      "3  no-recurrence-events  60-69      ge40      15-19       0-2        no   \n",
      "4  no-recurrence-events  40-49   premeno        0-4       0-2        no   \n",
      "\n",
      "   deg-malig breast breast-quad irradiat  \n",
      "0          3   left    left_low       no  \n",
      "1          2  right    right_up       no  \n",
      "2          2   left    left_low       no  \n",
      "3          2  right     left_up       no  \n",
      "4          2  right   right_low       no  \n"
     ]
    }
   ],
   "source": [
    "import  pandas as pd \n",
    "import numpy as np \n",
    "import sklearn\n",
    "from sklearn.metrics import accuracy_score , f1_score , recall_score ,roc_auc_score as roc , precision_score\n",
    "atributes = [ 'Class', 'age', 'menopause', 'tumor-size' ,'inv-nodes', 'node-caps', 'deg-malig' ,'breast', 'breast-quad', 'irradiat']\n",
    "missing = [np.nan , None , \"\" , \"?\"]\n",
    "df = pd.read_csv('./data/breast-cancer.csv', names=atributes, na_values=missing) \n",
    "print(df.head())\n",
    "\n"
   ]
  },
  {
   "cell_type": "code",
   "execution_count": 2,
   "metadata": {},
   "outputs": [
    {
     "data": {
      "text/plain": [
       "pandas.core.frame.DataFrame"
      ]
     },
     "execution_count": 2,
     "metadata": {},
     "output_type": "execute_result"
    }
   ],
   "source": [
    "df.isna().sum()\n",
    "df.shape\n",
    "type(df[['age']])"
   ]
  },
  {
   "cell_type": "code",
   "execution_count": 3,
   "metadata": {},
   "outputs": [
    {
     "name": "stdout",
     "output_type": "stream",
     "text": [
      "sum of nans in Class : 0 \n",
      "sum of nans in age : 0 \n",
      "sum of nans in menopause : 0 \n",
      "sum of nans in tumor-size : 0 \n",
      "sum of nans in inv-nodes : 0 \n",
      "sum of nans in node-caps : 8 \n",
      "sum of nans in deg-malig : 0 \n",
      "sum of nans in breast : 0 \n",
      "sum of nans in breast-quad : 1 \n",
      "sum of nans in irradiat : 0 \n",
      "                    Class    age menopause tumor-size inv-nodes node-caps  \\\n",
      "0    no-recurrence-events  30-39   premeno      30-34       0-2        no   \n",
      "1    no-recurrence-events  40-49   premeno      20-24       0-2        no   \n",
      "2    no-recurrence-events  40-49   premeno      20-24       0-2        no   \n",
      "3    no-recurrence-events  60-69      ge40      15-19       0-2        no   \n",
      "4    no-recurrence-events  40-49   premeno        0-4       0-2        no   \n",
      "..                    ...    ...       ...        ...       ...       ...   \n",
      "281     recurrence-events  30-39   premeno      30-34       0-2        no   \n",
      "282     recurrence-events  30-39   premeno      20-24       0-2        no   \n",
      "283     recurrence-events  60-69      ge40      20-24       0-2        no   \n",
      "284     recurrence-events  40-49      ge40      30-34       3-5        no   \n",
      "285     recurrence-events  50-59      ge40      30-34       3-5        no   \n",
      "\n",
      "     deg-malig breast breast-quad irradiat  \n",
      "0            3   left    left_low       no  \n",
      "1            2  right    right_up       no  \n",
      "2            2   left    left_low       no  \n",
      "3            2  right     left_up       no  \n",
      "4            2  right   right_low       no  \n",
      "..         ...    ...         ...      ...  \n",
      "281          2   left     left_up       no  \n",
      "282          3   left     left_up      yes  \n",
      "283          1  right     left_up       no  \n",
      "284          3   left    left_low       no  \n",
      "285          3   left    left_low       no  \n",
      "\n",
      "[286 rows x 10 columns]\n"
     ]
    }
   ],
   "source": [
    "\n",
    "\n",
    "for i in df:\n",
    "    print(\"sum of nans in {} : {} \".format(i,df[i].isna().sum() ))\n",
    "print(df)\n",
    "\n",
    "## convert ages \n",
    "ages = []\n",
    "for row in df[\"age\"]:\n",
    "    if row == \"20-29\":\n",
    "        ages.append(0)\n",
    "    elif row == \"30-39\":\n",
    "        ages.append(1)\n",
    "    elif row == \"40-49\":\n",
    "        ages.append(2)\n",
    "    elif row == \"50-59\":\n",
    "        ages.append(3)\n",
    "    elif row == \"60-69\":\n",
    "        ages.append(4)\n",
    "    elif row == \"70-79\":\n",
    "        ages.append(5)\n",
    "    else :\n",
    "        ages.append(6)\n",
    "ages_df = pd.DataFrame(ages)\n",
    "\n",
    "\n",
    "df[\"age\"] = ages_df\n",
    "sizes_table = []\n",
    "for row in df[\"tumor-size\"]:\n",
    "#     print(row)\n",
    "    if row == '0-4':\n",
    "        sizes_table.append(0)\n",
    "    elif row == '5-9':\n",
    "        sizes_table.append(1)\n",
    "    elif row == '10-14':\n",
    "        sizes_table.append(2)\n",
    "    elif row == '15-19':\n",
    "        sizes_table.append(3)\n",
    "    elif row == '20-24':\n",
    "        sizes_table.append(4)\n",
    "    elif row == '25-29':\n",
    "        sizes_table.append(5)\n",
    "    elif row == '30-34':\n",
    "        sizes_table.append(6)       \n",
    "    elif row == '35-39':\n",
    "        sizes_table.append(7)       \n",
    "    elif row == '40-44':\n",
    "        sizes_table.append(8)\n",
    "    elif row == '45-49':\n",
    "        sizes_table.append(9)\n",
    "    elif row == '50-54' :\n",
    "        sizes_table.append(10)\n",
    "\n",
    "        \n",
    "sizes_table_df = pd.DataFrame(sizes_table)\n",
    "df[\"tumor-size\"] = sizes_table_df\n",
    "\n",
    "\n",
    "### gia inv-nodes\n",
    "table = []\n",
    "for row in df[\"inv-nodes\"]:\n",
    "#     print(row)\n",
    "    if row == '0-2':\n",
    "        table.append(0)\n",
    "    elif row == '3-5':\n",
    "        table.append(1)\n",
    "    elif row == '6-8':\n",
    "        table.append(2)\n",
    "    elif row == '9-11':\n",
    "        table.append(3)\n",
    "    elif row == '12-14':\n",
    "        table.append(4)\n",
    "    elif row == '15-17':\n",
    "        table.append(5)\n",
    "    elif row == '24-26':\n",
    "        table.append(6)       \n",
    "        \n",
    "\n",
    "table_df = pd.DataFrame(table)\n",
    "df[\"inv-nodes\"] = table_df"
   ]
  },
  {
   "cell_type": "code",
   "execution_count": null,
   "metadata": {},
   "outputs": [],
   "source": []
  },
  {
   "cell_type": "code",
   "execution_count": 4,
   "metadata": {},
   "outputs": [],
   "source": [
    "dummie_df = pd.get_dummies(df , columns = ['menopause' , 'node-caps' ,'breast' ,'breast-quad','irradiat'  ] , drop_first=True )"
   ]
  },
  {
   "cell_type": "code",
   "execution_count": 5,
   "metadata": {},
   "outputs": [
    {
     "data": {
      "text/html": [
       "<div>\n",
       "<style scoped>\n",
       "    .dataframe tbody tr th:only-of-type {\n",
       "        vertical-align: middle;\n",
       "    }\n",
       "\n",
       "    .dataframe tbody tr th {\n",
       "        vertical-align: top;\n",
       "    }\n",
       "\n",
       "    .dataframe thead th {\n",
       "        text-align: right;\n",
       "    }\n",
       "</style>\n",
       "<table border=\"1\" class=\"dataframe\">\n",
       "  <thead>\n",
       "    <tr style=\"text-align: right;\">\n",
       "      <th></th>\n",
       "      <th>Class</th>\n",
       "      <th>age</th>\n",
       "      <th>tumor-size</th>\n",
       "      <th>inv-nodes</th>\n",
       "      <th>deg-malig</th>\n",
       "      <th>menopause_lt40</th>\n",
       "      <th>menopause_premeno</th>\n",
       "      <th>node-caps_yes</th>\n",
       "      <th>breast_right</th>\n",
       "      <th>breast-quad_left_low</th>\n",
       "      <th>breast-quad_left_up</th>\n",
       "      <th>breast-quad_right_low</th>\n",
       "      <th>breast-quad_right_up</th>\n",
       "      <th>irradiat_yes</th>\n",
       "    </tr>\n",
       "  </thead>\n",
       "  <tbody>\n",
       "    <tr>\n",
       "      <th>0</th>\n",
       "      <td>no-recurrence-events</td>\n",
       "      <td>1</td>\n",
       "      <td>6</td>\n",
       "      <td>0</td>\n",
       "      <td>3</td>\n",
       "      <td>0</td>\n",
       "      <td>1</td>\n",
       "      <td>0</td>\n",
       "      <td>0</td>\n",
       "      <td>1</td>\n",
       "      <td>0</td>\n",
       "      <td>0</td>\n",
       "      <td>0</td>\n",
       "      <td>0</td>\n",
       "    </tr>\n",
       "    <tr>\n",
       "      <th>1</th>\n",
       "      <td>no-recurrence-events</td>\n",
       "      <td>2</td>\n",
       "      <td>4</td>\n",
       "      <td>0</td>\n",
       "      <td>2</td>\n",
       "      <td>0</td>\n",
       "      <td>1</td>\n",
       "      <td>0</td>\n",
       "      <td>1</td>\n",
       "      <td>0</td>\n",
       "      <td>0</td>\n",
       "      <td>0</td>\n",
       "      <td>1</td>\n",
       "      <td>0</td>\n",
       "    </tr>\n",
       "    <tr>\n",
       "      <th>2</th>\n",
       "      <td>no-recurrence-events</td>\n",
       "      <td>2</td>\n",
       "      <td>4</td>\n",
       "      <td>0</td>\n",
       "      <td>2</td>\n",
       "      <td>0</td>\n",
       "      <td>1</td>\n",
       "      <td>0</td>\n",
       "      <td>0</td>\n",
       "      <td>1</td>\n",
       "      <td>0</td>\n",
       "      <td>0</td>\n",
       "      <td>0</td>\n",
       "      <td>0</td>\n",
       "    </tr>\n",
       "    <tr>\n",
       "      <th>3</th>\n",
       "      <td>no-recurrence-events</td>\n",
       "      <td>4</td>\n",
       "      <td>3</td>\n",
       "      <td>0</td>\n",
       "      <td>2</td>\n",
       "      <td>0</td>\n",
       "      <td>0</td>\n",
       "      <td>0</td>\n",
       "      <td>1</td>\n",
       "      <td>0</td>\n",
       "      <td>1</td>\n",
       "      <td>0</td>\n",
       "      <td>0</td>\n",
       "      <td>0</td>\n",
       "    </tr>\n",
       "    <tr>\n",
       "      <th>4</th>\n",
       "      <td>no-recurrence-events</td>\n",
       "      <td>2</td>\n",
       "      <td>0</td>\n",
       "      <td>0</td>\n",
       "      <td>2</td>\n",
       "      <td>0</td>\n",
       "      <td>1</td>\n",
       "      <td>0</td>\n",
       "      <td>1</td>\n",
       "      <td>0</td>\n",
       "      <td>0</td>\n",
       "      <td>1</td>\n",
       "      <td>0</td>\n",
       "      <td>0</td>\n",
       "    </tr>\n",
       "    <tr>\n",
       "      <th>...</th>\n",
       "      <td>...</td>\n",
       "      <td>...</td>\n",
       "      <td>...</td>\n",
       "      <td>...</td>\n",
       "      <td>...</td>\n",
       "      <td>...</td>\n",
       "      <td>...</td>\n",
       "      <td>...</td>\n",
       "      <td>...</td>\n",
       "      <td>...</td>\n",
       "      <td>...</td>\n",
       "      <td>...</td>\n",
       "      <td>...</td>\n",
       "      <td>...</td>\n",
       "    </tr>\n",
       "    <tr>\n",
       "      <th>281</th>\n",
       "      <td>recurrence-events</td>\n",
       "      <td>1</td>\n",
       "      <td>6</td>\n",
       "      <td>0</td>\n",
       "      <td>2</td>\n",
       "      <td>0</td>\n",
       "      <td>1</td>\n",
       "      <td>0</td>\n",
       "      <td>0</td>\n",
       "      <td>0</td>\n",
       "      <td>1</td>\n",
       "      <td>0</td>\n",
       "      <td>0</td>\n",
       "      <td>0</td>\n",
       "    </tr>\n",
       "    <tr>\n",
       "      <th>282</th>\n",
       "      <td>recurrence-events</td>\n",
       "      <td>1</td>\n",
       "      <td>4</td>\n",
       "      <td>0</td>\n",
       "      <td>3</td>\n",
       "      <td>0</td>\n",
       "      <td>1</td>\n",
       "      <td>0</td>\n",
       "      <td>0</td>\n",
       "      <td>0</td>\n",
       "      <td>1</td>\n",
       "      <td>0</td>\n",
       "      <td>0</td>\n",
       "      <td>1</td>\n",
       "    </tr>\n",
       "    <tr>\n",
       "      <th>283</th>\n",
       "      <td>recurrence-events</td>\n",
       "      <td>4</td>\n",
       "      <td>4</td>\n",
       "      <td>0</td>\n",
       "      <td>1</td>\n",
       "      <td>0</td>\n",
       "      <td>0</td>\n",
       "      <td>0</td>\n",
       "      <td>1</td>\n",
       "      <td>0</td>\n",
       "      <td>1</td>\n",
       "      <td>0</td>\n",
       "      <td>0</td>\n",
       "      <td>0</td>\n",
       "    </tr>\n",
       "    <tr>\n",
       "      <th>284</th>\n",
       "      <td>recurrence-events</td>\n",
       "      <td>2</td>\n",
       "      <td>6</td>\n",
       "      <td>1</td>\n",
       "      <td>3</td>\n",
       "      <td>0</td>\n",
       "      <td>0</td>\n",
       "      <td>0</td>\n",
       "      <td>0</td>\n",
       "      <td>1</td>\n",
       "      <td>0</td>\n",
       "      <td>0</td>\n",
       "      <td>0</td>\n",
       "      <td>0</td>\n",
       "    </tr>\n",
       "    <tr>\n",
       "      <th>285</th>\n",
       "      <td>recurrence-events</td>\n",
       "      <td>3</td>\n",
       "      <td>6</td>\n",
       "      <td>1</td>\n",
       "      <td>3</td>\n",
       "      <td>0</td>\n",
       "      <td>0</td>\n",
       "      <td>0</td>\n",
       "      <td>0</td>\n",
       "      <td>1</td>\n",
       "      <td>0</td>\n",
       "      <td>0</td>\n",
       "      <td>0</td>\n",
       "      <td>0</td>\n",
       "    </tr>\n",
       "  </tbody>\n",
       "</table>\n",
       "<p>286 rows × 14 columns</p>\n",
       "</div>"
      ],
      "text/plain": [
       "                    Class  age  tumor-size  inv-nodes  deg-malig  \\\n",
       "0    no-recurrence-events    1           6          0          3   \n",
       "1    no-recurrence-events    2           4          0          2   \n",
       "2    no-recurrence-events    2           4          0          2   \n",
       "3    no-recurrence-events    4           3          0          2   \n",
       "4    no-recurrence-events    2           0          0          2   \n",
       "..                    ...  ...         ...        ...        ...   \n",
       "281     recurrence-events    1           6          0          2   \n",
       "282     recurrence-events    1           4          0          3   \n",
       "283     recurrence-events    4           4          0          1   \n",
       "284     recurrence-events    2           6          1          3   \n",
       "285     recurrence-events    3           6          1          3   \n",
       "\n",
       "     menopause_lt40  menopause_premeno  node-caps_yes  breast_right  \\\n",
       "0                 0                  1              0             0   \n",
       "1                 0                  1              0             1   \n",
       "2                 0                  1              0             0   \n",
       "3                 0                  0              0             1   \n",
       "4                 0                  1              0             1   \n",
       "..              ...                ...            ...           ...   \n",
       "281               0                  1              0             0   \n",
       "282               0                  1              0             0   \n",
       "283               0                  0              0             1   \n",
       "284               0                  0              0             0   \n",
       "285               0                  0              0             0   \n",
       "\n",
       "     breast-quad_left_low  breast-quad_left_up  breast-quad_right_low  \\\n",
       "0                       1                    0                      0   \n",
       "1                       0                    0                      0   \n",
       "2                       1                    0                      0   \n",
       "3                       0                    1                      0   \n",
       "4                       0                    0                      1   \n",
       "..                    ...                  ...                    ...   \n",
       "281                     0                    1                      0   \n",
       "282                     0                    1                      0   \n",
       "283                     0                    1                      0   \n",
       "284                     1                    0                      0   \n",
       "285                     1                    0                      0   \n",
       "\n",
       "     breast-quad_right_up  irradiat_yes  \n",
       "0                       0             0  \n",
       "1                       1             0  \n",
       "2                       0             0  \n",
       "3                       0             0  \n",
       "4                       0             0  \n",
       "..                    ...           ...  \n",
       "281                     0             0  \n",
       "282                     0             1  \n",
       "283                     0             0  \n",
       "284                     0             0  \n",
       "285                     0             0  \n",
       "\n",
       "[286 rows x 14 columns]"
      ]
     },
     "execution_count": 5,
     "metadata": {},
     "output_type": "execute_result"
    }
   ],
   "source": [
    "dummie_df\n"
   ]
  },
  {
   "cell_type": "code",
   "execution_count": null,
   "metadata": {},
   "outputs": [],
   "source": []
  },
  {
   "cell_type": "code",
   "execution_count": 6,
   "metadata": {},
   "outputs": [],
   "source": [
    "dummie_df[\"Class\"] = dummie_df[\"Class\"].replace(\"no-recurrence-events\", 0)\n",
    "dummie_df[\"Class\"] = dummie_df[\"Class\"].replace(\"recurrence-events\", 1)"
   ]
  },
  {
   "cell_type": "code",
   "execution_count": 7,
   "metadata": {},
   "outputs": [
    {
     "data": {
      "text/html": [
       "<div>\n",
       "<style scoped>\n",
       "    .dataframe tbody tr th:only-of-type {\n",
       "        vertical-align: middle;\n",
       "    }\n",
       "\n",
       "    .dataframe tbody tr th {\n",
       "        vertical-align: top;\n",
       "    }\n",
       "\n",
       "    .dataframe thead th {\n",
       "        text-align: right;\n",
       "    }\n",
       "</style>\n",
       "<table border=\"1\" class=\"dataframe\">\n",
       "  <thead>\n",
       "    <tr style=\"text-align: right;\">\n",
       "      <th></th>\n",
       "      <th>Class</th>\n",
       "      <th>age</th>\n",
       "      <th>tumor-size</th>\n",
       "      <th>inv-nodes</th>\n",
       "      <th>deg-malig</th>\n",
       "      <th>menopause_lt40</th>\n",
       "      <th>menopause_premeno</th>\n",
       "      <th>node-caps_yes</th>\n",
       "      <th>breast_right</th>\n",
       "      <th>breast-quad_left_low</th>\n",
       "      <th>breast-quad_left_up</th>\n",
       "      <th>breast-quad_right_low</th>\n",
       "      <th>breast-quad_right_up</th>\n",
       "      <th>irradiat_yes</th>\n",
       "    </tr>\n",
       "  </thead>\n",
       "  <tbody>\n",
       "    <tr>\n",
       "      <th>Class</th>\n",
       "      <td>1.000000</td>\n",
       "      <td>-0.071719</td>\n",
       "      <td>0.175065</td>\n",
       "      <td>0.276171</td>\n",
       "      <td>0.299400</td>\n",
       "      <td>-0.003982</td>\n",
       "      <td>0.052386</td>\n",
       "      <td>0.276792</td>\n",
       "      <td>-0.058646</td>\n",
       "      <td>0.036290</td>\n",
       "      <td>-0.045711</td>\n",
       "      <td>-0.031259</td>\n",
       "      <td>0.076444</td>\n",
       "      <td>0.193912</td>\n",
       "    </tr>\n",
       "    <tr>\n",
       "      <th>age</th>\n",
       "      <td>-0.071719</td>\n",
       "      <td>1.000000</td>\n",
       "      <td>-0.010559</td>\n",
       "      <td>-0.044726</td>\n",
       "      <td>-0.085968</td>\n",
       "      <td>0.052639</td>\n",
       "      <td>-0.718478</td>\n",
       "      <td>-0.054111</td>\n",
       "      <td>-0.041769</td>\n",
       "      <td>0.013684</td>\n",
       "      <td>0.055275</td>\n",
       "      <td>-0.086699</td>\n",
       "      <td>-0.031672</td>\n",
       "      <td>-0.042080</td>\n",
       "    </tr>\n",
       "    <tr>\n",
       "      <th>tumor-size</th>\n",
       "      <td>0.175065</td>\n",
       "      <td>-0.010559</td>\n",
       "      <td>1.000000</td>\n",
       "      <td>0.168944</td>\n",
       "      <td>0.218169</td>\n",
       "      <td>-0.066389</td>\n",
       "      <td>0.012763</td>\n",
       "      <td>0.203942</td>\n",
       "      <td>0.049763</td>\n",
       "      <td>0.003682</td>\n",
       "      <td>0.068617</td>\n",
       "      <td>-0.126855</td>\n",
       "      <td>0.160984</td>\n",
       "      <td>0.164418</td>\n",
       "    </tr>\n",
       "    <tr>\n",
       "      <th>inv-nodes</th>\n",
       "      <td>0.276171</td>\n",
       "      <td>-0.044726</td>\n",
       "      <td>0.168944</td>\n",
       "      <td>1.000000</td>\n",
       "      <td>0.332824</td>\n",
       "      <td>-0.073946</td>\n",
       "      <td>-0.016564</td>\n",
       "      <td>0.596347</td>\n",
       "      <td>-0.021130</td>\n",
       "      <td>0.026433</td>\n",
       "      <td>-0.007967</td>\n",
       "      <td>0.052110</td>\n",
       "      <td>-0.000759</td>\n",
       "      <td>0.324621</td>\n",
       "    </tr>\n",
       "    <tr>\n",
       "      <th>deg-malig</th>\n",
       "      <td>0.299400</td>\n",
       "      <td>-0.085968</td>\n",
       "      <td>0.218169</td>\n",
       "      <td>0.332824</td>\n",
       "      <td>1.000000</td>\n",
       "      <td>-0.071934</td>\n",
       "      <td>-0.031758</td>\n",
       "      <td>0.325930</td>\n",
       "      <td>-0.052861</td>\n",
       "      <td>-0.013504</td>\n",
       "      <td>0.052634</td>\n",
       "      <td>-0.037217</td>\n",
       "      <td>0.020563</td>\n",
       "      <td>0.208099</td>\n",
       "    </tr>\n",
       "    <tr>\n",
       "      <th>menopause_lt40</th>\n",
       "      <td>-0.003982</td>\n",
       "      <td>0.052639</td>\n",
       "      <td>-0.066389</td>\n",
       "      <td>-0.073946</td>\n",
       "      <td>-0.071934</td>\n",
       "      <td>1.000000</td>\n",
       "      <td>-0.166350</td>\n",
       "      <td>-0.078159</td>\n",
       "      <td>-0.058030</td>\n",
       "      <td>0.014311</td>\n",
       "      <td>0.029915</td>\n",
       "      <td>-0.047940</td>\n",
       "      <td>0.013621</td>\n",
       "      <td>-0.088465</td>\n",
       "    </tr>\n",
       "    <tr>\n",
       "      <th>menopause_premeno</th>\n",
       "      <td>0.052386</td>\n",
       "      <td>-0.718478</td>\n",
       "      <td>0.012763</td>\n",
       "      <td>-0.016564</td>\n",
       "      <td>-0.031758</td>\n",
       "      <td>-0.166350</td>\n",
       "      <td>1.000000</td>\n",
       "      <td>0.046392</td>\n",
       "      <td>0.066228</td>\n",
       "      <td>0.004428</td>\n",
       "      <td>-0.057294</td>\n",
       "      <td>0.086174</td>\n",
       "      <td>0.059001</td>\n",
       "      <td>0.054859</td>\n",
       "    </tr>\n",
       "    <tr>\n",
       "      <th>node-caps_yes</th>\n",
       "      <td>0.276792</td>\n",
       "      <td>-0.054111</td>\n",
       "      <td>0.203942</td>\n",
       "      <td>0.596347</td>\n",
       "      <td>0.325930</td>\n",
       "      <td>-0.078159</td>\n",
       "      <td>0.046392</td>\n",
       "      <td>1.000000</td>\n",
       "      <td>-0.004198</td>\n",
       "      <td>-0.009752</td>\n",
       "      <td>-0.018482</td>\n",
       "      <td>0.009556</td>\n",
       "      <td>0.070010</td>\n",
       "      <td>0.303955</td>\n",
       "    </tr>\n",
       "    <tr>\n",
       "      <th>breast_right</th>\n",
       "      <td>-0.058646</td>\n",
       "      <td>-0.041769</td>\n",
       "      <td>0.049763</td>\n",
       "      <td>-0.021130</td>\n",
       "      <td>-0.052861</td>\n",
       "      <td>-0.058030</td>\n",
       "      <td>0.066228</td>\n",
       "      <td>-0.004198</td>\n",
       "      <td>1.000000</td>\n",
       "      <td>-0.281404</td>\n",
       "      <td>0.230183</td>\n",
       "      <td>-0.107272</td>\n",
       "      <td>0.187264</td>\n",
       "      <td>0.018761</td>\n",
       "    </tr>\n",
       "    <tr>\n",
       "      <th>breast-quad_left_low</th>\n",
       "      <td>0.036290</td>\n",
       "      <td>0.013684</td>\n",
       "      <td>0.003682</td>\n",
       "      <td>0.026433</td>\n",
       "      <td>-0.013504</td>\n",
       "      <td>0.014311</td>\n",
       "      <td>0.004428</td>\n",
       "      <td>-0.009752</td>\n",
       "      <td>-0.281404</td>\n",
       "      <td>1.000000</td>\n",
       "      <td>-0.566363</td>\n",
       "      <td>-0.239274</td>\n",
       "      <td>-0.285520</td>\n",
       "      <td>0.031167</td>\n",
       "    </tr>\n",
       "    <tr>\n",
       "      <th>breast-quad_left_up</th>\n",
       "      <td>-0.045711</td>\n",
       "      <td>0.055275</td>\n",
       "      <td>0.068617</td>\n",
       "      <td>-0.007967</td>\n",
       "      <td>0.052634</td>\n",
       "      <td>0.029915</td>\n",
       "      <td>-0.057294</td>\n",
       "      <td>-0.018482</td>\n",
       "      <td>0.230183</td>\n",
       "      <td>-0.566363</td>\n",
       "      <td>1.000000</td>\n",
       "      <td>-0.216825</td>\n",
       "      <td>-0.258733</td>\n",
       "      <td>0.033605</td>\n",
       "    </tr>\n",
       "    <tr>\n",
       "      <th>breast-quad_right_low</th>\n",
       "      <td>-0.031259</td>\n",
       "      <td>-0.086699</td>\n",
       "      <td>-0.126855</td>\n",
       "      <td>0.052110</td>\n",
       "      <td>-0.037217</td>\n",
       "      <td>-0.047940</td>\n",
       "      <td>0.086174</td>\n",
       "      <td>0.009556</td>\n",
       "      <td>-0.107272</td>\n",
       "      <td>-0.239274</td>\n",
       "      <td>-0.216825</td>\n",
       "      <td>1.000000</td>\n",
       "      <td>-0.109308</td>\n",
       "      <td>0.038323</td>\n",
       "    </tr>\n",
       "    <tr>\n",
       "      <th>breast-quad_right_up</th>\n",
       "      <td>0.076444</td>\n",
       "      <td>-0.031672</td>\n",
       "      <td>0.160984</td>\n",
       "      <td>-0.000759</td>\n",
       "      <td>0.020563</td>\n",
       "      <td>0.013621</td>\n",
       "      <td>0.059001</td>\n",
       "      <td>0.070010</td>\n",
       "      <td>0.187264</td>\n",
       "      <td>-0.285520</td>\n",
       "      <td>-0.258733</td>\n",
       "      <td>-0.109308</td>\n",
       "      <td>1.000000</td>\n",
       "      <td>-0.047461</td>\n",
       "    </tr>\n",
       "    <tr>\n",
       "      <th>irradiat_yes</th>\n",
       "      <td>0.193912</td>\n",
       "      <td>-0.042080</td>\n",
       "      <td>0.164418</td>\n",
       "      <td>0.324621</td>\n",
       "      <td>0.208099</td>\n",
       "      <td>-0.088465</td>\n",
       "      <td>0.054859</td>\n",
       "      <td>0.303955</td>\n",
       "      <td>0.018761</td>\n",
       "      <td>0.031167</td>\n",
       "      <td>0.033605</td>\n",
       "      <td>0.038323</td>\n",
       "      <td>-0.047461</td>\n",
       "      <td>1.000000</td>\n",
       "    </tr>\n",
       "  </tbody>\n",
       "</table>\n",
       "</div>"
      ],
      "text/plain": [
       "                          Class       age  tumor-size  inv-nodes  deg-malig  \\\n",
       "Class                  1.000000 -0.071719    0.175065   0.276171   0.299400   \n",
       "age                   -0.071719  1.000000   -0.010559  -0.044726  -0.085968   \n",
       "tumor-size             0.175065 -0.010559    1.000000   0.168944   0.218169   \n",
       "inv-nodes              0.276171 -0.044726    0.168944   1.000000   0.332824   \n",
       "deg-malig              0.299400 -0.085968    0.218169   0.332824   1.000000   \n",
       "menopause_lt40        -0.003982  0.052639   -0.066389  -0.073946  -0.071934   \n",
       "menopause_premeno      0.052386 -0.718478    0.012763  -0.016564  -0.031758   \n",
       "node-caps_yes          0.276792 -0.054111    0.203942   0.596347   0.325930   \n",
       "breast_right          -0.058646 -0.041769    0.049763  -0.021130  -0.052861   \n",
       "breast-quad_left_low   0.036290  0.013684    0.003682   0.026433  -0.013504   \n",
       "breast-quad_left_up   -0.045711  0.055275    0.068617  -0.007967   0.052634   \n",
       "breast-quad_right_low -0.031259 -0.086699   -0.126855   0.052110  -0.037217   \n",
       "breast-quad_right_up   0.076444 -0.031672    0.160984  -0.000759   0.020563   \n",
       "irradiat_yes           0.193912 -0.042080    0.164418   0.324621   0.208099   \n",
       "\n",
       "                       menopause_lt40  menopause_premeno  node-caps_yes  \\\n",
       "Class                       -0.003982           0.052386       0.276792   \n",
       "age                          0.052639          -0.718478      -0.054111   \n",
       "tumor-size                  -0.066389           0.012763       0.203942   \n",
       "inv-nodes                   -0.073946          -0.016564       0.596347   \n",
       "deg-malig                   -0.071934          -0.031758       0.325930   \n",
       "menopause_lt40               1.000000          -0.166350      -0.078159   \n",
       "menopause_premeno           -0.166350           1.000000       0.046392   \n",
       "node-caps_yes               -0.078159           0.046392       1.000000   \n",
       "breast_right                -0.058030           0.066228      -0.004198   \n",
       "breast-quad_left_low         0.014311           0.004428      -0.009752   \n",
       "breast-quad_left_up          0.029915          -0.057294      -0.018482   \n",
       "breast-quad_right_low       -0.047940           0.086174       0.009556   \n",
       "breast-quad_right_up         0.013621           0.059001       0.070010   \n",
       "irradiat_yes                -0.088465           0.054859       0.303955   \n",
       "\n",
       "                       breast_right  breast-quad_left_low  \\\n",
       "Class                     -0.058646              0.036290   \n",
       "age                       -0.041769              0.013684   \n",
       "tumor-size                 0.049763              0.003682   \n",
       "inv-nodes                 -0.021130              0.026433   \n",
       "deg-malig                 -0.052861             -0.013504   \n",
       "menopause_lt40            -0.058030              0.014311   \n",
       "menopause_premeno          0.066228              0.004428   \n",
       "node-caps_yes             -0.004198             -0.009752   \n",
       "breast_right               1.000000             -0.281404   \n",
       "breast-quad_left_low      -0.281404              1.000000   \n",
       "breast-quad_left_up        0.230183             -0.566363   \n",
       "breast-quad_right_low     -0.107272             -0.239274   \n",
       "breast-quad_right_up       0.187264             -0.285520   \n",
       "irradiat_yes               0.018761              0.031167   \n",
       "\n",
       "                       breast-quad_left_up  breast-quad_right_low  \\\n",
       "Class                            -0.045711              -0.031259   \n",
       "age                               0.055275              -0.086699   \n",
       "tumor-size                        0.068617              -0.126855   \n",
       "inv-nodes                        -0.007967               0.052110   \n",
       "deg-malig                         0.052634              -0.037217   \n",
       "menopause_lt40                    0.029915              -0.047940   \n",
       "menopause_premeno                -0.057294               0.086174   \n",
       "node-caps_yes                    -0.018482               0.009556   \n",
       "breast_right                      0.230183              -0.107272   \n",
       "breast-quad_left_low             -0.566363              -0.239274   \n",
       "breast-quad_left_up               1.000000              -0.216825   \n",
       "breast-quad_right_low            -0.216825               1.000000   \n",
       "breast-quad_right_up             -0.258733              -0.109308   \n",
       "irradiat_yes                      0.033605               0.038323   \n",
       "\n",
       "                       breast-quad_right_up  irradiat_yes  \n",
       "Class                              0.076444      0.193912  \n",
       "age                               -0.031672     -0.042080  \n",
       "tumor-size                         0.160984      0.164418  \n",
       "inv-nodes                         -0.000759      0.324621  \n",
       "deg-malig                          0.020563      0.208099  \n",
       "menopause_lt40                     0.013621     -0.088465  \n",
       "menopause_premeno                  0.059001      0.054859  \n",
       "node-caps_yes                      0.070010      0.303955  \n",
       "breast_right                       0.187264      0.018761  \n",
       "breast-quad_left_low              -0.285520      0.031167  \n",
       "breast-quad_left_up               -0.258733      0.033605  \n",
       "breast-quad_right_low             -0.109308      0.038323  \n",
       "breast-quad_right_up               1.000000     -0.047461  \n",
       "irradiat_yes                      -0.047461      1.000000  "
      ]
     },
     "execution_count": 7,
     "metadata": {},
     "output_type": "execute_result"
    }
   ],
   "source": [
    "dummie_df.corr()"
   ]
  },
  {
   "cell_type": "markdown",
   "metadata": {},
   "source": [
    "### SPLIT"
   ]
  },
  {
   "cell_type": "code",
   "execution_count": 8,
   "metadata": {},
   "outputs": [],
   "source": [
    "\n",
    "from sklearn.model_selection import train_test_split\n",
    "data  = dummie_df.drop(columns='Class')\n",
    "# for i in full_dataset:\n",
    "#     print(full_dataset[i])\n",
    "\n",
    "res = dummie_df[\"Class\"]\n",
    "\n",
    "# Split dataset into training set and test set\n",
    "X_train, X_test, y_train, y_test = train_test_split(data, res, test_size=0.5,random_state=30) # 80% training and 20% test"
   ]
  },
  {
   "cell_type": "markdown",
   "metadata": {},
   "source": [
    "### train the algorithms "
   ]
  },
  {
   "cell_type": "code",
   "execution_count": 9,
   "metadata": {},
   "outputs": [
    {
     "name": "stderr",
     "output_type": "stream",
     "text": [
      "C:\\Users\\tzav2\\anaconda3\\lib\\site-packages\\sklearn\\utils\\deprecation.py:144: FutureWarning: The sklearn.ensemble.forest module is  deprecated in version 0.22 and will be removed in version 0.24. The corresponding classes / functions should instead be imported from sklearn.ensemble. Anything that cannot be imported from sklearn.ensemble is now part of the private API.\n",
      "  warnings.warn(message, FutureWarning)\n"
     ]
    },
    {
     "data": {
      "text/plain": [
       "KNeighborsClassifier(algorithm='auto', leaf_size=30, metric='minkowski',\n",
       "                     metric_params=None, n_jobs=None, n_neighbors=2, p=2,\n",
       "                     weights='uniform')"
      ]
     },
     "execution_count": 9,
     "metadata": {},
     "output_type": "execute_result"
    }
   ],
   "source": [
    "# RANDOM FOREST CLASSIFIER\n",
    "from sklearn.ensemble.forest import RandomForestClassifier\n",
    "clf = RandomForestClassifier( n_estimators=100 , random_state= 0)\n",
    "clf.fit(X_train ,y_train)\n",
    "\n",
    "#SVM kernel = linear \n",
    "from sklearn.svm import SVC\n",
    "svm_lin = SVC(kernel='linear') \n",
    "svm_lin.fit(X_train, y_train)\n",
    "\n",
    "# SVM kerner = rbf \n",
    "svm_rbf = SVC(kernel= 'rbf')\n",
    "svm_rbf.fit(X_train, y_train)\n",
    "\n",
    "#KNN n_neighbors =2\n",
    "from sklearn.neighbors import KNeighborsClassifier\n",
    "knn = KNeighborsClassifier( n_neighbors=2 )\n",
    "knn.fit(X_train, y_train)\n"
   ]
  },
  {
   "cell_type": "markdown",
   "metadata": {},
   "source": [
    "### print ACCURACIES "
   ]
  },
  {
   "cell_type": "code",
   "execution_count": 10,
   "metadata": {},
   "outputs": [
    {
     "name": "stdout",
     "output_type": "stream",
     "text": [
      "=========================\n",
      "Accuracy score for RF :    0.6783216783216783\n",
      "F1 score for : RF :        0.25806451612903225\n",
      "auc curve accuracy for RF :  0.5380232558139534 \n",
      "recall score for RF : 0.18604651162790697 \n",
      "=========================\n",
      "Accuracy score for KNN :    0.7062937062937062\n",
      "F1 score for : KNN :        0.22222222222222218\n",
      "auc curve accuracy for KNN :  0.5447674418604651 \n",
      "recall score for KNN : 0.13953488372093023 \n",
      "=========================\n",
      "Accuracy score for SVM (linear) :    0.6713286713286714\n",
      "F1 score for : SVM (linear) :        0.3380281690140845\n",
      "auc curve accuracy for SVM (linear) :  0.5595348837209302 \n",
      "recall score for SVM (linear) : 0.27906976744186046 \n",
      "=========================\n",
      "Accuracy score for SVM(RBF) :    0.6853146853146853\n",
      "F1 score for : SVM(RBF) :        0.1176470588235294\n",
      "auc curve accuracy for SVM(RBF) :  0.5098837209302325 \n",
      "recall score for SVM(RBF) : 0.06976744186046512 \n"
     ]
    }
   ],
   "source": [
    "list_of_models = [clf, knn,svm_lin, svm_rbf   ]\n",
    "names = ['RF' , 'KNN' , 'SVM (linear)' , 'SVM(RBF)']\n",
    "j=-1\n",
    "accuracy_from_origin={}\n",
    "AUC_origin = {}\n",
    "for i in list_of_models:\n",
    "    print(\"=\"*25)\n",
    "    j+=1\n",
    "    y_pred = i.predict(X_test)\n",
    "    print(\"Accuracy score for {} :    {}\".format(names[j] , accuracy_score(y_test , y_pred) ))\n",
    "    print(\"F1 score for : {} :        {}\".format(names[j],f1_score(y_test, y_pred)))\n",
    "    print(\"auc curve accuracy for {} :  {} \".format( names[j], roc(y_test, y_pred)))\n",
    "    print(\"recall score for {} : {} \".format(names[j] , recall_score(y_test , y_pred)))\n",
    "    accuracy_from_origin[names[j]]= accuracy_score(y_test,y_pred)\n",
    "    AUC_origin[names[j]] = roc(y_test,y_pred)"
   ]
  },
  {
   "cell_type": "code",
   "execution_count": 11,
   "metadata": {},
   "outputs": [
    {
     "data": {
      "text/plain": [
       "dict_values([0.6783216783216783, 0.7062937062937062, 0.6713286713286714, 0.6853146853146853])"
      ]
     },
     "execution_count": 11,
     "metadata": {},
     "output_type": "execute_result"
    }
   ],
   "source": [
    "#over sample the set \n",
    "accuracy_from_origin.values()"
   ]
  },
  {
   "cell_type": "code",
   "execution_count": 12,
   "metadata": {},
   "outputs": [
    {
     "data": {
      "image/png": "[encoded data removed]",
      "text/plain": [
       "<Figure size 432x288 with 1 Axes>"
      ]
     },
     "metadata": {
      "needs_background": "light"
     },
     "output_type": "display_data"
    }
   ],
   "source": [
    "import matplotlib.pyplot as plt\n",
    "import seaborn as sns\n",
    "\n",
    "sns.barplot(  list ( accuracy_from_origin.keys() ) , list(accuracy_from_origin.values()) )\n",
    "plt.ylim([0,0.8])\n",
    "plt.title('First train')\n",
    "plt.grid()"
   ]
  },
  {
   "cell_type": "markdown",
   "metadata": {},
   "source": [
    "## OVER SAMPLING with SMOTE"
   ]
  },
  {
   "cell_type": "code",
   "execution_count": 13,
   "metadata": {},
   "outputs": [
    {
     "name": "stdout",
     "output_type": "stream",
     "text": [
      "Counter({0: 201, 1: 201})\n"
     ]
    }
   ],
   "source": [
    "from imblearn.over_sampling import SMOTE \n",
    "from collections import Counter\n",
    "oversampling = SMOTE()\n",
    "\n",
    "data_over , res_over = oversampling.fit_resample(data ,res )\n",
    "print ( Counter(res_over) ) \n",
    "X_train_smote, X_test_smote, y_train_smote, y_test_smote = train_test_split(data_over, res_over, test_size=0.2,random_state=30) # 80% training and 20% test"
   ]
  },
  {
   "cell_type": "code",
   "execution_count": 14,
   "metadata": {},
   "outputs": [
    {
     "data": {
      "text/plain": [
       "KNeighborsClassifier(algorithm='auto', leaf_size=30, metric='minkowski',\n",
       "                     metric_params=None, n_jobs=None, n_neighbors=2, p=2,\n",
       "                     weights='uniform')"
      ]
     },
     "execution_count": 14,
     "metadata": {},
     "output_type": "execute_result"
    }
   ],
   "source": [
    "# RANDOM FOREST CLASSIFIER\n",
    "from sklearn.ensemble.forest import RandomForestClassifier\n",
    "clf_smote = RandomForestClassifier( n_estimators=100 , random_state= 0)\n",
    "clf_smote.fit(X_train_smote ,y_train_smote)\n",
    "\n",
    "#SVM kernel = linear \n",
    "from sklearn.svm import SVC\n",
    "svm_lin_smote = SVC(kernel='linear') \n",
    "svm_lin_smote.fit(X_train_smote, y_train_smote)\n",
    "\n",
    "# SVM kerner = rbf \n",
    "svm_rbf_smote = SVC(kernel= 'rbf')\n",
    "svm_rbf_smote.fit(X_train_smote, y_train_smote)\n",
    "\n",
    "#KNN n_neighbors =2\n",
    "from sklearn.neighbors import KNeighborsClassifier\n",
    "knn_smote = KNeighborsClassifier( n_neighbors=2 )\n",
    "knn_smote.fit(X_train_smote, y_train_smote)\n"
   ]
  },
  {
   "cell_type": "markdown",
   "metadata": {},
   "source": [
    "### accuracies after over sampling with smote"
   ]
  },
  {
   "cell_type": "code",
   "execution_count": 15,
   "metadata": {},
   "outputs": [
    {
     "name": "stdout",
     "output_type": "stream",
     "text": [
      "=========================\n",
      "Accuracy score for RF :    0.7283950617283951\n",
      "F1 score for : RF :        0.7500000000000001\n",
      "auc curve accuracy for RF :  0.727439024390244 \n",
      "recall score for RF :     0.8048780487804879 \n",
      "=========================\n",
      "Accuracy score for KNN :    0.6790123456790124\n",
      "F1 score for : KNN :        0.6666666666666667\n",
      "auc curve accuracy for KNN :  0.6795731707317073 \n",
      "recall score for KNN :     0.6341463414634146 \n",
      "=========================\n",
      "Accuracy score for SVM (linear) :    0.6049382716049383\n",
      "F1 score for : SVM (linear) :        0.6363636363636364\n",
      "auc curve accuracy for SVM (linear) :  0.6039634146341464 \n",
      "recall score for SVM (linear) :     0.6829268292682927 \n",
      "=========================\n",
      "Accuracy score for SVM(RBF) :    0.5925925925925926\n",
      "F1 score for : SVM(RBF) :        0.6292134831460675\n",
      "auc curve accuracy for SVM(RBF) :  0.5914634146341464 \n",
      "recall score for SVM(RBF) :     0.6829268292682927 \n"
     ]
    }
   ],
   "source": [
    "list_of_models = [clf_smote, knn_smote,svm_lin_smote, svm_rbf_smote   ]\n",
    "names = ['RF' , 'KNN' , 'SVM (linear)' , 'SVM(RBF)']\n",
    "j=-1\n",
    "accuracy_from_SMOTE = {}\n",
    "AUC_SMOTE = {}\n",
    "for i in list_of_models:\n",
    "    print(\"=\"*25)\n",
    "    j+=1\n",
    "    y_pred_smote = i.predict(X_test_smote)\n",
    "    print(\"Accuracy score for {} :    {}\".format(names[j] , accuracy_score(y_test_smote , y_pred_smote) ))\n",
    "    print(\"F1 score for : {} :        {}\".format(names[j],f1_score(y_test_smote, y_pred_smote)))\n",
    "    print(\"auc curve accuracy for {} :  {} \".format( names[j], roc(y_test_smote, y_pred_smote)))\n",
    "    print(\"recall score for {} :     {} \".format(names[j] , recall_score(y_test_smote , y_pred_smote)))\n",
    "    accuracy_from_SMOTE[names[j]]= accuracy_score(y_test_smote,y_pred_smote)\n",
    "    AUC_SMOTE[names[j]] = roc(y_test_smote,y_pred_smote)\n",
    "    "
   ]
  },
  {
   "cell_type": "code",
   "execution_count": 16,
   "metadata": {},
   "outputs": [
    {
     "data": {
      "text/plain": [
       "Text(0.5, 1.0, 'SMOTE & ONE HOT ')"
      ]
     },
     "execution_count": 16,
     "metadata": {},
     "output_type": "execute_result"
    },
    {
     "data": {
      "image/png": "[encoded data removed]",
      "text/plain": [
       "<Figure size 432x288 with 1 Axes>"
      ]
     },
     "metadata": {
      "needs_background": "light"
     },
     "output_type": "display_data"
    }
   ],
   "source": [
    "sns.barplot(  list ( accuracy_from_SMOTE.keys() ) , list(accuracy_from_SMOTE.values()) )\n",
    "plt.ylim([0,0.8])\n",
    "plt.grid()\n",
    "plt.title('SMOTE & ONE HOT ')"
   ]
  },
  {
   "cell_type": "markdown",
   "metadata": {},
   "source": [
    "##  OVER SAMPLING WITH RandomOverSampler "
   ]
  },
  {
   "cell_type": "code",
   "execution_count": 17,
   "metadata": {},
   "outputs": [],
   "source": [
    "# random overampler \n",
    "from imblearn.over_sampling import RandomOverSampler\n",
    "ros = RandomOverSampler(random_state = 0)\n",
    "data_over , res_over = ros.fit_resample(data ,res )\n",
    "Counter(res_over)\n",
    "X_train, X_test, y_train, y_test = train_test_split(data_over, res_over, test_size=0.2,random_state=30) # 80% training and 20% test"
   ]
  },
  {
   "cell_type": "code",
   "execution_count": 18,
   "metadata": {},
   "outputs": [
    {
     "name": "stdout",
     "output_type": "stream",
     "text": [
      "=========================\n",
      "Accuracy score for RF :    0.7037037037037037\n",
      "F1 score for : RF :        0.6129032258064516\n",
      "auc curve accuracy for RF :  0.7067073170731707 \n",
      "recall score for RF :     0.4634146341463415 \n",
      "=========================\n",
      "Accuracy score for KNN :    0.5308641975308642\n",
      "F1 score for : KNN :        0.1739130434782609\n",
      "auc curve accuracy for KNN :  0.536280487804878 \n",
      "recall score for KNN :     0.0975609756097561 \n",
      "=========================\n",
      "Accuracy score for SVM (linear) :    0.5925925925925926\n",
      "F1 score for : SVM (linear) :        0.4590163934426229\n",
      "auc curve accuracy for SVM (linear) :  0.5957317073170733 \n",
      "recall score for SVM (linear) :     0.34146341463414637 \n",
      "=========================\n",
      "Accuracy score for SVM(RBF) :    0.5308641975308642\n",
      "F1 score for : SVM(RBF) :        0.1739130434782609\n",
      "auc curve accuracy for SVM(RBF) :  0.536280487804878 \n",
      "recall score for SVM(RBF) :     0.0975609756097561 \n"
     ]
    }
   ],
   "source": [
    "list_of_models = [clf, knn,svm_lin, svm_rbf   ]\n",
    "names = ['RF' , 'KNN' , 'SVM (linear)' , 'SVM(RBF)']\n",
    "j=-1\n",
    "accuracy_from_R = {}\n",
    "AUC_R = {}\n",
    "for i in list_of_models:\n",
    "    print(\"=\"*25)\n",
    "    j+=1\n",
    "    y_pred = i.predict(X_test)\n",
    "    print(\"Accuracy score for {} :    {}\".format(names[j] , accuracy_score(y_test , y_pred) ))\n",
    "    print(\"F1 score for : {} :        {}\".format(names[j],f1_score(y_test, y_pred)))\n",
    "    print(\"auc curve accuracy for {} :  {} \".format( names[j], roc(y_test, y_pred)))\n",
    "    print(\"recall score for {} :     {} \".format(names[j] , recall_score(y_test , y_pred)))\n",
    "    accuracy_from_R[names[j]]= accuracy_score(y_test,y_pred)\n",
    "    AUC_R[names[j]] = roc(y_test,y_pred)\n",
    "    "
   ]
  },
  {
   "cell_type": "code",
   "execution_count": 19,
   "metadata": {},
   "outputs": [
    {
     "data": {
      "text/plain": [
       "Text(0.5, 1.0, 'RandomSampler & ONE HOT')"
      ]
     },
     "execution_count": 19,
     "metadata": {},
     "output_type": "execute_result"
    },
    {
     "data": {
      "image/png": "[encoded data removed]",
      "text/plain": [
       "<Figure size 432x288 with 1 Axes>"
      ]
     },
     "metadata": {
      "needs_background": "light"
     },
     "output_type": "display_data"
    }
   ],
   "source": [
    "sns.barplot(  list ( accuracy_from_R.keys() ) , list(accuracy_from_R.values()) )\n",
    "plt.ylim([0,0.8])\n",
    "plt.grid()\n",
    "plt.title('RandomSampler & ONE HOT')"
   ]
  },
  {
   "cell_type": "markdown",
   "metadata": {},
   "source": [
    "# NEXT WITHOUT  One Hot Encoding "
   ]
  },
  {
   "cell_type": "code",
   "execution_count": 20,
   "metadata": {},
   "outputs": [],
   "source": [
    "dataset2 = pd.read_csv('./data/final.csv')\n",
    "corr = dataset2.corr()\n"
   ]
  },
  {
   "cell_type": "code",
   "execution_count": 21,
   "metadata": {},
   "outputs": [
    {
     "data": {
      "text/html": [
       "<div>\n",
       "<style scoped>\n",
       "    .dataframe tbody tr th:only-of-type {\n",
       "        vertical-align: middle;\n",
       "    }\n",
       "\n",
       "    .dataframe tbody tr th {\n",
       "        vertical-align: top;\n",
       "    }\n",
       "\n",
       "    .dataframe thead th {\n",
       "        text-align: right;\n",
       "    }\n",
       "</style>\n",
       "<table border=\"1\" class=\"dataframe\">\n",
       "  <thead>\n",
       "    <tr style=\"text-align: right;\">\n",
       "      <th></th>\n",
       "      <th>Class</th>\n",
       "      <th>age</th>\n",
       "      <th>menopause</th>\n",
       "      <th>tumor-size</th>\n",
       "      <th>inv-nodes</th>\n",
       "      <th>node-caps</th>\n",
       "      <th>deg-malig</th>\n",
       "      <th>breast</th>\n",
       "      <th>breast-quad</th>\n",
       "    </tr>\n",
       "  </thead>\n",
       "  <tbody>\n",
       "    <tr>\n",
       "      <th>0</th>\n",
       "      <td>0</td>\n",
       "      <td>1</td>\n",
       "      <td>0</td>\n",
       "      <td>6</td>\n",
       "      <td>0</td>\n",
       "      <td>0</td>\n",
       "      <td>3</td>\n",
       "      <td>0</td>\n",
       "      <td>0</td>\n",
       "    </tr>\n",
       "    <tr>\n",
       "      <th>1</th>\n",
       "      <td>0</td>\n",
       "      <td>2</td>\n",
       "      <td>0</td>\n",
       "      <td>4</td>\n",
       "      <td>0</td>\n",
       "      <td>0</td>\n",
       "      <td>2</td>\n",
       "      <td>1</td>\n",
       "      <td>1</td>\n",
       "    </tr>\n",
       "    <tr>\n",
       "      <th>2</th>\n",
       "      <td>0</td>\n",
       "      <td>2</td>\n",
       "      <td>0</td>\n",
       "      <td>4</td>\n",
       "      <td>0</td>\n",
       "      <td>0</td>\n",
       "      <td>2</td>\n",
       "      <td>0</td>\n",
       "      <td>0</td>\n",
       "    </tr>\n",
       "    <tr>\n",
       "      <th>3</th>\n",
       "      <td>0</td>\n",
       "      <td>4</td>\n",
       "      <td>1</td>\n",
       "      <td>3</td>\n",
       "      <td>0</td>\n",
       "      <td>0</td>\n",
       "      <td>2</td>\n",
       "      <td>1</td>\n",
       "      <td>2</td>\n",
       "    </tr>\n",
       "    <tr>\n",
       "      <th>4</th>\n",
       "      <td>0</td>\n",
       "      <td>2</td>\n",
       "      <td>0</td>\n",
       "      <td>0</td>\n",
       "      <td>0</td>\n",
       "      <td>0</td>\n",
       "      <td>2</td>\n",
       "      <td>1</td>\n",
       "      <td>3</td>\n",
       "    </tr>\n",
       "    <tr>\n",
       "      <th>...</th>\n",
       "      <td>...</td>\n",
       "      <td>...</td>\n",
       "      <td>...</td>\n",
       "      <td>...</td>\n",
       "      <td>...</td>\n",
       "      <td>...</td>\n",
       "      <td>...</td>\n",
       "      <td>...</td>\n",
       "      <td>...</td>\n",
       "    </tr>\n",
       "    <tr>\n",
       "      <th>281</th>\n",
       "      <td>1</td>\n",
       "      <td>1</td>\n",
       "      <td>0</td>\n",
       "      <td>6</td>\n",
       "      <td>0</td>\n",
       "      <td>0</td>\n",
       "      <td>2</td>\n",
       "      <td>0</td>\n",
       "      <td>2</td>\n",
       "    </tr>\n",
       "    <tr>\n",
       "      <th>282</th>\n",
       "      <td>1</td>\n",
       "      <td>1</td>\n",
       "      <td>0</td>\n",
       "      <td>4</td>\n",
       "      <td>0</td>\n",
       "      <td>0</td>\n",
       "      <td>3</td>\n",
       "      <td>0</td>\n",
       "      <td>2</td>\n",
       "    </tr>\n",
       "    <tr>\n",
       "      <th>283</th>\n",
       "      <td>1</td>\n",
       "      <td>4</td>\n",
       "      <td>1</td>\n",
       "      <td>4</td>\n",
       "      <td>0</td>\n",
       "      <td>0</td>\n",
       "      <td>1</td>\n",
       "      <td>1</td>\n",
       "      <td>2</td>\n",
       "    </tr>\n",
       "    <tr>\n",
       "      <th>284</th>\n",
       "      <td>1</td>\n",
       "      <td>2</td>\n",
       "      <td>1</td>\n",
       "      <td>6</td>\n",
       "      <td>1</td>\n",
       "      <td>0</td>\n",
       "      <td>3</td>\n",
       "      <td>0</td>\n",
       "      <td>0</td>\n",
       "    </tr>\n",
       "    <tr>\n",
       "      <th>285</th>\n",
       "      <td>1</td>\n",
       "      <td>3</td>\n",
       "      <td>1</td>\n",
       "      <td>6</td>\n",
       "      <td>1</td>\n",
       "      <td>0</td>\n",
       "      <td>3</td>\n",
       "      <td>0</td>\n",
       "      <td>0</td>\n",
       "    </tr>\n",
       "  </tbody>\n",
       "</table>\n",
       "<p>286 rows × 9 columns</p>\n",
       "</div>"
      ],
      "text/plain": [
       "     Class  age  menopause  tumor-size  inv-nodes  node-caps  deg-malig  \\\n",
       "0        0    1          0           6          0          0          3   \n",
       "1        0    2          0           4          0          0          2   \n",
       "2        0    2          0           4          0          0          2   \n",
       "3        0    4          1           3          0          0          2   \n",
       "4        0    2          0           0          0          0          2   \n",
       "..     ...  ...        ...         ...        ...        ...        ...   \n",
       "281      1    1          0           6          0          0          2   \n",
       "282      1    1          0           4          0          0          3   \n",
       "283      1    4          1           4          0          0          1   \n",
       "284      1    2          1           6          1          0          3   \n",
       "285      1    3          1           6          1          0          3   \n",
       "\n",
       "     breast  breast-quad  \n",
       "0         0            0  \n",
       "1         1            1  \n",
       "2         0            0  \n",
       "3         1            2  \n",
       "4         1            3  \n",
       "..      ...          ...  \n",
       "281       0            2  \n",
       "282       0            2  \n",
       "283       1            2  \n",
       "284       0            0  \n",
       "285       0            0  \n",
       "\n",
       "[286 rows x 9 columns]"
      ]
     },
     "execution_count": 21,
     "metadata": {},
     "output_type": "execute_result"
    }
   ],
   "source": [
    "dataset2"
   ]
  },
  {
   "cell_type": "markdown",
   "metadata": {},
   "source": [
    "### read from final "
   ]
  },
  {
   "cell_type": "code",
   "execution_count": 22,
   "metadata": {},
   "outputs": [
    {
     "data": {
      "text/plain": [
       "Text(0.5, 1, 'Pearson Correlation ')"
      ]
     },
     "execution_count": 22,
     "metadata": {},
     "output_type": "execute_result"
    },
    {
     "data": {
      "image/png": "[encoded data removed]",
      "text/plain": [
       "<Figure size 432x288 with 2 Axes>"
      ]
     },
     "metadata": {
      "needs_background": "light"
     },
     "output_type": "display_data"
    }
   ],
   "source": [
    "dataset2\n",
    "cmap = sns.diverging_palette(220, 10, as_cmap=True)\n",
    "\n",
    "mask = np.triu(np.ones_like(corr, dtype=np.bool))\n",
    "sns.heatmap(corr, mask=mask , cmap=cmap)\n",
    "plt.title('Pearson Correlation ')"
   ]
  },
  {
   "cell_type": "code",
   "execution_count": 23,
   "metadata": {},
   "outputs": [
    {
     "data": {
      "text/html": [
       "<div>\n",
       "<style scoped>\n",
       "    .dataframe tbody tr th:only-of-type {\n",
       "        vertical-align: middle;\n",
       "    }\n",
       "\n",
       "    .dataframe tbody tr th {\n",
       "        vertical-align: top;\n",
       "    }\n",
       "\n",
       "    .dataframe thead th {\n",
       "        text-align: right;\n",
       "    }\n",
       "</style>\n",
       "<table border=\"1\" class=\"dataframe\">\n",
       "  <thead>\n",
       "    <tr style=\"text-align: right;\">\n",
       "      <th></th>\n",
       "      <th>Class</th>\n",
       "      <th>age</th>\n",
       "      <th>menopause</th>\n",
       "      <th>tumor-size</th>\n",
       "      <th>inv-nodes</th>\n",
       "      <th>node-caps</th>\n",
       "      <th>deg-malig</th>\n",
       "      <th>breast</th>\n",
       "      <th>breast-quad</th>\n",
       "    </tr>\n",
       "  </thead>\n",
       "  <tbody>\n",
       "    <tr>\n",
       "      <th>Class</th>\n",
       "      <td>1.000000</td>\n",
       "      <td>-0.071719</td>\n",
       "      <td>-0.048973</td>\n",
       "      <td>0.175065</td>\n",
       "      <td>0.276171</td>\n",
       "      <td>0.032237</td>\n",
       "      <td>0.299400</td>\n",
       "      <td>-0.058646</td>\n",
       "      <td>0.081557</td>\n",
       "    </tr>\n",
       "    <tr>\n",
       "      <th>age</th>\n",
       "      <td>-0.071719</td>\n",
       "      <td>1.000000</td>\n",
       "      <td>0.671116</td>\n",
       "      <td>-0.010559</td>\n",
       "      <td>-0.044726</td>\n",
       "      <td>0.118816</td>\n",
       "      <td>-0.085968</td>\n",
       "      <td>-0.041769</td>\n",
       "      <td>0.017227</td>\n",
       "    </tr>\n",
       "    <tr>\n",
       "      <th>menopause</th>\n",
       "      <td>-0.048973</td>\n",
       "      <td>0.671116</td>\n",
       "      <td>1.000000</td>\n",
       "      <td>-0.030419</td>\n",
       "      <td>-0.005769</td>\n",
       "      <td>0.193316</td>\n",
       "      <td>0.008678</td>\n",
       "      <td>-0.076891</td>\n",
       "      <td>0.054491</td>\n",
       "    </tr>\n",
       "    <tr>\n",
       "      <th>tumor-size</th>\n",
       "      <td>0.175065</td>\n",
       "      <td>-0.010559</td>\n",
       "      <td>-0.030419</td>\n",
       "      <td>1.000000</td>\n",
       "      <td>0.168944</td>\n",
       "      <td>-0.008134</td>\n",
       "      <td>0.218169</td>\n",
       "      <td>0.049763</td>\n",
       "      <td>0.014709</td>\n",
       "    </tr>\n",
       "    <tr>\n",
       "      <th>inv-nodes</th>\n",
       "      <td>0.276171</td>\n",
       "      <td>-0.044726</td>\n",
       "      <td>-0.005769</td>\n",
       "      <td>0.168944</td>\n",
       "      <td>1.000000</td>\n",
       "      <td>0.138537</td>\n",
       "      <td>0.332824</td>\n",
       "      <td>-0.021130</td>\n",
       "      <td>-0.032011</td>\n",
       "    </tr>\n",
       "    <tr>\n",
       "      <th>node-caps</th>\n",
       "      <td>0.032237</td>\n",
       "      <td>0.118816</td>\n",
       "      <td>0.193316</td>\n",
       "      <td>-0.008134</td>\n",
       "      <td>0.138537</td>\n",
       "      <td>1.000000</td>\n",
       "      <td>-0.093758</td>\n",
       "      <td>-0.074410</td>\n",
       "      <td>-0.013530</td>\n",
       "    </tr>\n",
       "    <tr>\n",
       "      <th>deg-malig</th>\n",
       "      <td>0.299400</td>\n",
       "      <td>-0.085968</td>\n",
       "      <td>0.008678</td>\n",
       "      <td>0.218169</td>\n",
       "      <td>0.332824</td>\n",
       "      <td>-0.093758</td>\n",
       "      <td>1.000000</td>\n",
       "      <td>-0.052861</td>\n",
       "      <td>0.072195</td>\n",
       "    </tr>\n",
       "    <tr>\n",
       "      <th>breast</th>\n",
       "      <td>-0.058646</td>\n",
       "      <td>-0.041769</td>\n",
       "      <td>-0.076891</td>\n",
       "      <td>0.049763</td>\n",
       "      <td>-0.021130</td>\n",
       "      <td>-0.074410</td>\n",
       "      <td>-0.052861</td>\n",
       "      <td>1.000000</td>\n",
       "      <td>-0.039301</td>\n",
       "    </tr>\n",
       "    <tr>\n",
       "      <th>breast-quad</th>\n",
       "      <td>0.081557</td>\n",
       "      <td>0.017227</td>\n",
       "      <td>0.054491</td>\n",
       "      <td>0.014709</td>\n",
       "      <td>-0.032011</td>\n",
       "      <td>-0.013530</td>\n",
       "      <td>0.072195</td>\n",
       "      <td>-0.039301</td>\n",
       "      <td>1.000000</td>\n",
       "    </tr>\n",
       "  </tbody>\n",
       "</table>\n",
       "</div>"
      ],
      "text/plain": [
       "                Class       age  menopause  tumor-size  inv-nodes  node-caps  \\\n",
       "Class        1.000000 -0.071719  -0.048973    0.175065   0.276171   0.032237   \n",
       "age         -0.071719  1.000000   0.671116   -0.010559  -0.044726   0.118816   \n",
       "menopause   -0.048973  0.671116   1.000000   -0.030419  -0.005769   0.193316   \n",
       "tumor-size   0.175065 -0.010559  -0.030419    1.000000   0.168944  -0.008134   \n",
       "inv-nodes    0.276171 -0.044726  -0.005769    0.168944   1.000000   0.138537   \n",
       "node-caps    0.032237  0.118816   0.193316   -0.008134   0.138537   1.000000   \n",
       "deg-malig    0.299400 -0.085968   0.008678    0.218169   0.332824  -0.093758   \n",
       "breast      -0.058646 -0.041769  -0.076891    0.049763  -0.021130  -0.074410   \n",
       "breast-quad  0.081557  0.017227   0.054491    0.014709  -0.032011  -0.013530   \n",
       "\n",
       "             deg-malig    breast  breast-quad  \n",
       "Class         0.299400 -0.058646     0.081557  \n",
       "age          -0.085968 -0.041769     0.017227  \n",
       "menopause     0.008678 -0.076891     0.054491  \n",
       "tumor-size    0.218169  0.049763     0.014709  \n",
       "inv-nodes     0.332824 -0.021130    -0.032011  \n",
       "node-caps    -0.093758 -0.074410    -0.013530  \n",
       "deg-malig     1.000000 -0.052861     0.072195  \n",
       "breast       -0.052861  1.000000    -0.039301  \n",
       "breast-quad   0.072195 -0.039301     1.000000  "
      ]
     },
     "execution_count": 23,
     "metadata": {},
     "output_type": "execute_result"
    }
   ],
   "source": [
    "corr"
   ]
  },
  {
   "cell_type": "markdown",
   "metadata": {},
   "source": [
    "## split "
   ]
  },
  {
   "cell_type": "code",
   "execution_count": 24,
   "metadata": {},
   "outputs": [],
   "source": [
    "from sklearn.model_selection import train_test_split\n",
    "data_train  = dataset2.drop(columns='Class')\n",
    "# for i in full_dataset:\n",
    "#     print(full_dataset[i])\n",
    "\n",
    "res_class = dataset2[\"Class\"]\n",
    "\n",
    "# Split dataset into training set and test set\n",
    "X_train_without, X_test_without, y_train_without, y_test_without = train_test_split(data_train, res_class, test_size=0.5,random_state=30) # 80% training and 20% test"
   ]
  },
  {
   "cell_type": "markdown",
   "metadata": {},
   "source": [
    "## TRAIN DATA WITHOUT ONE HOT "
   ]
  },
  {
   "cell_type": "code",
   "execution_count": 25,
   "metadata": {},
   "outputs": [
    {
     "data": {
      "text/plain": [
       "KNeighborsClassifier(algorithm='auto', leaf_size=30, metric='minkowski',\n",
       "                     metric_params=None, n_jobs=None, n_neighbors=2, p=2,\n",
       "                     weights='uniform')"
      ]
     },
     "execution_count": 25,
     "metadata": {},
     "output_type": "execute_result"
    }
   ],
   "source": [
    "# RANDOM FOREST CLASSIFIER\n",
    "from sklearn.ensemble.forest import RandomForestClassifier\n",
    "clf_rfc = RandomForestClassifier( n_estimators=100 , random_state= 0)\n",
    "clf_rfc.fit(X_train_without ,y_train_without)\n",
    "\n",
    "#SVM kernel = linear \n",
    "from sklearn.svm import SVC\n",
    "svm_lin_without = SVC(kernel='linear' , probability=True   ) \n",
    "svm_lin_without.fit(X_train_without, y_train_without)\n",
    "\n",
    "# SVM kerner = rbf \n",
    "svm_rbf_without = SVC(kernel= 'rbf',probability=True)\n",
    "svm_rbf_without.fit(X_train_without, y_train_without)\n",
    "\n",
    "#KNN n_neighbors =2\n",
    "from sklearn.neighbors import KNeighborsClassifier\n",
    "knn_without = KNeighborsClassifier( n_neighbors=2 )\n",
    "knn_without.fit(X_train_without, y_train_without)\n"
   ]
  },
  {
   "cell_type": "code",
   "execution_count": 47,
   "metadata": {},
   "outputs": [
    {
     "name": "stdout",
     "output_type": "stream",
     "text": [
      "=========================\n",
      "Accuracy score for RF :    0.6573426573426573\n",
      "F1 score for : RF :        0.3098591549295775\n",
      "auc curve accuracy for RF :  0.542906976744186 \n",
      "recall score for RF :     0.2558139534883721 \n",
      "precision : 0.39285714285714285\n",
      "[[83 17]\n",
      " [32 11]]\n",
      "=========================\n",
      "Accuracy score for KNN :    0.6993006993006993\n",
      "F1 score for : KNN :        0.18867924528301888\n",
      "auc curve accuracy for KNN :  0.5331395348837209 \n",
      "recall score for KNN :     0.11627906976744186 \n",
      "precision : 0.5\n",
      "[[95  5]\n",
      " [38  5]]\n",
      "=========================\n",
      "Accuracy score for SVM (linear) :    0.7062937062937062\n",
      "F1 score for : SVM (linear) :        0.22222222222222218\n",
      "auc curve accuracy for SVM (linear) :  0.5447674418604651 \n",
      "recall score for SVM (linear) :     0.13953488372093023 \n",
      "precision : 0.5454545454545454\n",
      "[[95  5]\n",
      " [37  6]]\n",
      "=========================\n",
      "Accuracy score for SVM(RBF) :    0.6993006993006993\n",
      "F1 score for : SVM(RBF) :        0.0\n",
      "auc curve accuracy for SVM(RBF) :  0.5 \n",
      "recall score for SVM(RBF) :     0.0 \n",
      "precision : 0.0\n",
      "[[100   0]\n",
      " [ 43   0]]\n"
     ]
    },
    {
     "name": "stderr",
     "output_type": "stream",
     "text": [
      "C:\\Users\\tzav2\\anaconda3\\lib\\site-packages\\sklearn\\metrics\\_classification.py:1272: UndefinedMetricWarning: Precision is ill-defined and being set to 0.0 due to no predicted samples. Use `zero_division` parameter to control this behavior.\n",
      "  _warn_prf(average, modifier, msg_start, len(result))\n"
     ]
    },
    {
     "ename": "AttributeError",
     "evalue": "'Line2D' object has no property 'type'",
     "output_type": "error",
     "traceback": [
      "\u001b[1;31m---------------------------------------------------------------------------\u001b[0m",
      "\u001b[1;31mAttributeError\u001b[0m                            Traceback (most recent call last)",
      "\u001b[1;32m<ipython-input-47-2f04fb826b7f>\u001b[0m in \u001b[0;36m<module>\u001b[1;34m\u001b[0m\n\u001b[0;32m     30\u001b[0m \u001b[1;33m\u001b[0m\u001b[0m\n\u001b[0;32m     31\u001b[0m \u001b[0mplt\u001b[0m\u001b[1;33m.\u001b[0m\u001b[0mtitle\u001b[0m\u001b[1;33m(\u001b[0m\u001b[0mnames\u001b[0m\u001b[1;33m[\u001b[0m\u001b[0mj\u001b[0m\u001b[1;33m]\u001b[0m\u001b[1;33m)\u001b[0m\u001b[1;33m\u001b[0m\u001b[1;33m\u001b[0m\u001b[0m\n\u001b[1;32m---> 32\u001b[1;33m \u001b[0mplt\u001b[0m\u001b[1;33m.\u001b[0m\u001b[0mplot\u001b[0m\u001b[1;33m(\u001b[0m \u001b[0mrange\u001b[0m\u001b[1;33m(\u001b[0m\u001b[1;36m1\u001b[0m\u001b[1;33m,\u001b[0m\u001b[1;36m10\u001b[0m\u001b[1;33m,\u001b[0m\u001b[1;36m1\u001b[0m\u001b[1;33m)\u001b[0m \u001b[1;33m,\u001b[0m \u001b[0mrange\u001b[0m\u001b[1;33m(\u001b[0m\u001b[1;36m1\u001b[0m\u001b[1;33m,\u001b[0m\u001b[1;36m10\u001b[0m\u001b[1;33m,\u001b[0m\u001b[1;36m1\u001b[0m\u001b[1;33m)\u001b[0m\u001b[1;33m,\u001b[0m \u001b[0mtype\u001b[0m\u001b[1;33m=\u001b[0m\u001b[1;34m'-'\u001b[0m\u001b[1;33m)\u001b[0m\u001b[1;33m\u001b[0m\u001b[1;33m\u001b[0m\u001b[0m\n\u001b[0m\u001b[0;32m     33\u001b[0m \u001b[0mplt\u001b[0m\u001b[1;33m.\u001b[0m\u001b[0mshow\u001b[0m\u001b[1;33m(\u001b[0m\u001b[1;33m)\u001b[0m\u001b[1;33m\u001b[0m\u001b[1;33m\u001b[0m\u001b[0m\n\u001b[0;32m     34\u001b[0m \u001b[1;33m\u001b[0m\u001b[0m\n",
      "\u001b[1;32m~\\anaconda3\\lib\\site-packages\\matplotlib\\pyplot.py\u001b[0m in \u001b[0;36mplot\u001b[1;34m(scalex, scaley, data, *args, **kwargs)\u001b[0m\n\u001b[0;32m   2794\u001b[0m     return gca().plot(\n\u001b[0;32m   2795\u001b[0m         *args, scalex=scalex, scaley=scaley, **({\"data\": data} if data\n\u001b[1;32m-> 2796\u001b[1;33m         is not None else {}), **kwargs)\n\u001b[0m\u001b[0;32m   2797\u001b[0m \u001b[1;33m\u001b[0m\u001b[0m\n\u001b[0;32m   2798\u001b[0m \u001b[1;33m\u001b[0m\u001b[0m\n",
      "\u001b[1;32m~\\anaconda3\\lib\\site-packages\\matplotlib\\axes\\_axes.py\u001b[0m in \u001b[0;36mplot\u001b[1;34m(self, scalex, scaley, data, *args, **kwargs)\u001b[0m\n\u001b[0;32m   1663\u001b[0m         \"\"\"\n\u001b[0;32m   1664\u001b[0m         \u001b[0mkwargs\u001b[0m \u001b[1;33m=\u001b[0m \u001b[0mcbook\u001b[0m\u001b[1;33m.\u001b[0m\u001b[0mnormalize_kwargs\u001b[0m\u001b[1;33m(\u001b[0m\u001b[0mkwargs\u001b[0m\u001b[1;33m,\u001b[0m \u001b[0mmlines\u001b[0m\u001b[1;33m.\u001b[0m\u001b[0mLine2D\u001b[0m\u001b[1;33m.\u001b[0m\u001b[0m_alias_map\u001b[0m\u001b[1;33m)\u001b[0m\u001b[1;33m\u001b[0m\u001b[1;33m\u001b[0m\u001b[0m\n\u001b[1;32m-> 1665\u001b[1;33m         \u001b[0mlines\u001b[0m \u001b[1;33m=\u001b[0m \u001b[1;33m[\u001b[0m\u001b[1;33m*\u001b[0m\u001b[0mself\u001b[0m\u001b[1;33m.\u001b[0m\u001b[0m_get_lines\u001b[0m\u001b[1;33m(\u001b[0m\u001b[1;33m*\u001b[0m\u001b[0margs\u001b[0m\u001b[1;33m,\u001b[0m \u001b[0mdata\u001b[0m\u001b[1;33m=\u001b[0m\u001b[0mdata\u001b[0m\u001b[1;33m,\u001b[0m \u001b[1;33m**\u001b[0m\u001b[0mkwargs\u001b[0m\u001b[1;33m)\u001b[0m\u001b[1;33m]\u001b[0m\u001b[1;33m\u001b[0m\u001b[1;33m\u001b[0m\u001b[0m\n\u001b[0m\u001b[0;32m   1666\u001b[0m         \u001b[1;32mfor\u001b[0m \u001b[0mline\u001b[0m \u001b[1;32min\u001b[0m \u001b[0mlines\u001b[0m\u001b[1;33m:\u001b[0m\u001b[1;33m\u001b[0m\u001b[1;33m\u001b[0m\u001b[0m\n\u001b[0;32m   1667\u001b[0m             \u001b[0mself\u001b[0m\u001b[1;33m.\u001b[0m\u001b[0madd_line\u001b[0m\u001b[1;33m(\u001b[0m\u001b[0mline\u001b[0m\u001b[1;33m)\u001b[0m\u001b[1;33m\u001b[0m\u001b[1;33m\u001b[0m\u001b[0m\n",
      "\u001b[1;32m~\\anaconda3\\lib\\site-packages\\matplotlib\\axes\\_base.py\u001b[0m in \u001b[0;36m__call__\u001b[1;34m(self, *args, **kwargs)\u001b[0m\n\u001b[0;32m    223\u001b[0m                 \u001b[0mthis\u001b[0m \u001b[1;33m+=\u001b[0m \u001b[0margs\u001b[0m\u001b[1;33m[\u001b[0m\u001b[1;36m0\u001b[0m\u001b[1;33m]\u001b[0m\u001b[1;33m,\u001b[0m\u001b[1;33m\u001b[0m\u001b[1;33m\u001b[0m\u001b[0m\n\u001b[0;32m    224\u001b[0m                 \u001b[0margs\u001b[0m \u001b[1;33m=\u001b[0m \u001b[0margs\u001b[0m\u001b[1;33m[\u001b[0m\u001b[1;36m1\u001b[0m\u001b[1;33m:\u001b[0m\u001b[1;33m]\u001b[0m\u001b[1;33m\u001b[0m\u001b[1;33m\u001b[0m\u001b[0m\n\u001b[1;32m--> 225\u001b[1;33m             \u001b[1;32myield\u001b[0m \u001b[1;32mfrom\u001b[0m \u001b[0mself\u001b[0m\u001b[1;33m.\u001b[0m\u001b[0m_plot_args\u001b[0m\u001b[1;33m(\u001b[0m\u001b[0mthis\u001b[0m\u001b[1;33m,\u001b[0m \u001b[0mkwargs\u001b[0m\u001b[1;33m)\u001b[0m\u001b[1;33m\u001b[0m\u001b[1;33m\u001b[0m\u001b[0m\n\u001b[0m\u001b[0;32m    226\u001b[0m \u001b[1;33m\u001b[0m\u001b[0m\n\u001b[0;32m    227\u001b[0m     \u001b[1;32mdef\u001b[0m \u001b[0mget_next_color\u001b[0m\u001b[1;33m(\u001b[0m\u001b[0mself\u001b[0m\u001b[1;33m)\u001b[0m\u001b[1;33m:\u001b[0m\u001b[1;33m\u001b[0m\u001b[1;33m\u001b[0m\u001b[0m\n",
      "\u001b[1;32m~\\anaconda3\\lib\\site-packages\\matplotlib\\axes\\_base.py\u001b[0m in \u001b[0;36m_plot_args\u001b[1;34m(self, tup, kwargs)\u001b[0m\n\u001b[0;32m    403\u001b[0m                 \"non-matching shapes is deprecated.\")\n\u001b[0;32m    404\u001b[0m         \u001b[1;32mfor\u001b[0m \u001b[0mj\u001b[0m \u001b[1;32min\u001b[0m \u001b[0mrange\u001b[0m\u001b[1;33m(\u001b[0m\u001b[0mmax\u001b[0m\u001b[1;33m(\u001b[0m\u001b[0mncx\u001b[0m\u001b[1;33m,\u001b[0m \u001b[0mncy\u001b[0m\u001b[1;33m)\u001b[0m\u001b[1;33m)\u001b[0m\u001b[1;33m:\u001b[0m\u001b[1;33m\u001b[0m\u001b[1;33m\u001b[0m\u001b[0m\n\u001b[1;32m--> 405\u001b[1;33m             \u001b[0mseg\u001b[0m \u001b[1;33m=\u001b[0m \u001b[0mfunc\u001b[0m\u001b[1;33m(\u001b[0m\u001b[0mx\u001b[0m\u001b[1;33m[\u001b[0m\u001b[1;33m:\u001b[0m\u001b[1;33m,\u001b[0m \u001b[0mj\u001b[0m \u001b[1;33m%\u001b[0m \u001b[0mncx\u001b[0m\u001b[1;33m]\u001b[0m\u001b[1;33m,\u001b[0m \u001b[0my\u001b[0m\u001b[1;33m[\u001b[0m\u001b[1;33m:\u001b[0m\u001b[1;33m,\u001b[0m \u001b[0mj\u001b[0m \u001b[1;33m%\u001b[0m \u001b[0mncy\u001b[0m\u001b[1;33m]\u001b[0m\u001b[1;33m,\u001b[0m \u001b[0mkw\u001b[0m\u001b[1;33m,\u001b[0m \u001b[0mkwargs\u001b[0m\u001b[1;33m)\u001b[0m\u001b[1;33m\u001b[0m\u001b[1;33m\u001b[0m\u001b[0m\n\u001b[0m\u001b[0;32m    406\u001b[0m             \u001b[0mret\u001b[0m\u001b[1;33m.\u001b[0m\u001b[0mappend\u001b[0m\u001b[1;33m(\u001b[0m\u001b[0mseg\u001b[0m\u001b[1;33m)\u001b[0m\u001b[1;33m\u001b[0m\u001b[1;33m\u001b[0m\u001b[0m\n\u001b[0;32m    407\u001b[0m         \u001b[1;32mreturn\u001b[0m \u001b[0mret\u001b[0m\u001b[1;33m\u001b[0m\u001b[1;33m\u001b[0m\u001b[0m\n",
      "\u001b[1;32m~\\anaconda3\\lib\\site-packages\\matplotlib\\axes\\_base.py\u001b[0m in \u001b[0;36m_makeline\u001b[1;34m(self, x, y, kw, kwargs)\u001b[0m\n\u001b[0;32m    310\u001b[0m         \u001b[0mdefault_dict\u001b[0m \u001b[1;33m=\u001b[0m \u001b[0mself\u001b[0m\u001b[1;33m.\u001b[0m\u001b[0m_getdefaults\u001b[0m\u001b[1;33m(\u001b[0m\u001b[0mset\u001b[0m\u001b[1;33m(\u001b[0m\u001b[1;33m)\u001b[0m\u001b[1;33m,\u001b[0m \u001b[0mkw\u001b[0m\u001b[1;33m)\u001b[0m\u001b[1;33m\u001b[0m\u001b[1;33m\u001b[0m\u001b[0m\n\u001b[0;32m    311\u001b[0m         \u001b[0mself\u001b[0m\u001b[1;33m.\u001b[0m\u001b[0m_setdefaults\u001b[0m\u001b[1;33m(\u001b[0m\u001b[0mdefault_dict\u001b[0m\u001b[1;33m,\u001b[0m \u001b[0mkw\u001b[0m\u001b[1;33m)\u001b[0m\u001b[1;33m\u001b[0m\u001b[1;33m\u001b[0m\u001b[0m\n\u001b[1;32m--> 312\u001b[1;33m         \u001b[0mseg\u001b[0m \u001b[1;33m=\u001b[0m \u001b[0mmlines\u001b[0m\u001b[1;33m.\u001b[0m\u001b[0mLine2D\u001b[0m\u001b[1;33m(\u001b[0m\u001b[0mx\u001b[0m\u001b[1;33m,\u001b[0m \u001b[0my\u001b[0m\u001b[1;33m,\u001b[0m \u001b[1;33m**\u001b[0m\u001b[0mkw\u001b[0m\u001b[1;33m)\u001b[0m\u001b[1;33m\u001b[0m\u001b[1;33m\u001b[0m\u001b[0m\n\u001b[0m\u001b[0;32m    313\u001b[0m         \u001b[1;32mreturn\u001b[0m \u001b[0mseg\u001b[0m\u001b[1;33m\u001b[0m\u001b[1;33m\u001b[0m\u001b[0m\n\u001b[0;32m    314\u001b[0m \u001b[1;33m\u001b[0m\u001b[0m\n",
      "\u001b[1;32m~\\anaconda3\\lib\\site-packages\\matplotlib\\lines.py\u001b[0m in \u001b[0;36m__init__\u001b[1;34m(self, xdata, ydata, linewidth, linestyle, color, marker, markersize, markeredgewidth, markeredgecolor, markerfacecolor, markerfacecoloralt, fillstyle, antialiased, dash_capstyle, solid_capstyle, dash_joinstyle, solid_joinstyle, pickradius, drawstyle, markevery, **kwargs)\u001b[0m\n\u001b[0;32m    402\u001b[0m         \u001b[1;31m# update kwargs before updating data to give the caller a\u001b[0m\u001b[1;33m\u001b[0m\u001b[1;33m\u001b[0m\u001b[1;33m\u001b[0m\u001b[0m\n\u001b[0;32m    403\u001b[0m         \u001b[1;31m# chance to init axes (and hence unit support)\u001b[0m\u001b[1;33m\u001b[0m\u001b[1;33m\u001b[0m\u001b[1;33m\u001b[0m\u001b[0m\n\u001b[1;32m--> 404\u001b[1;33m         \u001b[0mself\u001b[0m\u001b[1;33m.\u001b[0m\u001b[0mupdate\u001b[0m\u001b[1;33m(\u001b[0m\u001b[0mkwargs\u001b[0m\u001b[1;33m)\u001b[0m\u001b[1;33m\u001b[0m\u001b[1;33m\u001b[0m\u001b[0m\n\u001b[0m\u001b[0;32m    405\u001b[0m         \u001b[0mself\u001b[0m\u001b[1;33m.\u001b[0m\u001b[0mpickradius\u001b[0m \u001b[1;33m=\u001b[0m \u001b[0mpickradius\u001b[0m\u001b[1;33m\u001b[0m\u001b[1;33m\u001b[0m\u001b[0m\n\u001b[0;32m    406\u001b[0m         \u001b[0mself\u001b[0m\u001b[1;33m.\u001b[0m\u001b[0mind_offset\u001b[0m \u001b[1;33m=\u001b[0m \u001b[1;36m0\u001b[0m\u001b[1;33m\u001b[0m\u001b[1;33m\u001b[0m\u001b[0m\n",
      "\u001b[1;32m~\\anaconda3\\lib\\site-packages\\matplotlib\\artist.py\u001b[0m in \u001b[0;36mupdate\u001b[1;34m(self, props)\u001b[0m\n\u001b[0;32m    972\u001b[0m \u001b[1;33m\u001b[0m\u001b[0m\n\u001b[0;32m    973\u001b[0m         \u001b[1;32mwith\u001b[0m \u001b[0mcbook\u001b[0m\u001b[1;33m.\u001b[0m\u001b[0m_setattr_cm\u001b[0m\u001b[1;33m(\u001b[0m\u001b[0mself\u001b[0m\u001b[1;33m,\u001b[0m \u001b[0meventson\u001b[0m\u001b[1;33m=\u001b[0m\u001b[1;32mFalse\u001b[0m\u001b[1;33m)\u001b[0m\u001b[1;33m:\u001b[0m\u001b[1;33m\u001b[0m\u001b[1;33m\u001b[0m\u001b[0m\n\u001b[1;32m--> 974\u001b[1;33m             \u001b[0mret\u001b[0m \u001b[1;33m=\u001b[0m \u001b[1;33m[\u001b[0m\u001b[0m_update_property\u001b[0m\u001b[1;33m(\u001b[0m\u001b[0mself\u001b[0m\u001b[1;33m,\u001b[0m \u001b[0mk\u001b[0m\u001b[1;33m,\u001b[0m \u001b[0mv\u001b[0m\u001b[1;33m)\u001b[0m \u001b[1;32mfor\u001b[0m \u001b[0mk\u001b[0m\u001b[1;33m,\u001b[0m \u001b[0mv\u001b[0m \u001b[1;32min\u001b[0m \u001b[0mprops\u001b[0m\u001b[1;33m.\u001b[0m\u001b[0mitems\u001b[0m\u001b[1;33m(\u001b[0m\u001b[1;33m)\u001b[0m\u001b[1;33m]\u001b[0m\u001b[1;33m\u001b[0m\u001b[1;33m\u001b[0m\u001b[0m\n\u001b[0m\u001b[0;32m    975\u001b[0m \u001b[1;33m\u001b[0m\u001b[0m\n\u001b[0;32m    976\u001b[0m         \u001b[1;32mif\u001b[0m \u001b[0mlen\u001b[0m\u001b[1;33m(\u001b[0m\u001b[0mret\u001b[0m\u001b[1;33m)\u001b[0m\u001b[1;33m:\u001b[0m\u001b[1;33m\u001b[0m\u001b[1;33m\u001b[0m\u001b[0m\n",
      "\u001b[1;32m~\\anaconda3\\lib\\site-packages\\matplotlib\\artist.py\u001b[0m in \u001b[0;36m<listcomp>\u001b[1;34m(.0)\u001b[0m\n\u001b[0;32m    972\u001b[0m \u001b[1;33m\u001b[0m\u001b[0m\n\u001b[0;32m    973\u001b[0m         \u001b[1;32mwith\u001b[0m \u001b[0mcbook\u001b[0m\u001b[1;33m.\u001b[0m\u001b[0m_setattr_cm\u001b[0m\u001b[1;33m(\u001b[0m\u001b[0mself\u001b[0m\u001b[1;33m,\u001b[0m \u001b[0meventson\u001b[0m\u001b[1;33m=\u001b[0m\u001b[1;32mFalse\u001b[0m\u001b[1;33m)\u001b[0m\u001b[1;33m:\u001b[0m\u001b[1;33m\u001b[0m\u001b[1;33m\u001b[0m\u001b[0m\n\u001b[1;32m--> 974\u001b[1;33m             \u001b[0mret\u001b[0m \u001b[1;33m=\u001b[0m \u001b[1;33m[\u001b[0m\u001b[0m_update_property\u001b[0m\u001b[1;33m(\u001b[0m\u001b[0mself\u001b[0m\u001b[1;33m,\u001b[0m \u001b[0mk\u001b[0m\u001b[1;33m,\u001b[0m \u001b[0mv\u001b[0m\u001b[1;33m)\u001b[0m \u001b[1;32mfor\u001b[0m \u001b[0mk\u001b[0m\u001b[1;33m,\u001b[0m \u001b[0mv\u001b[0m \u001b[1;32min\u001b[0m \u001b[0mprops\u001b[0m\u001b[1;33m.\u001b[0m\u001b[0mitems\u001b[0m\u001b[1;33m(\u001b[0m\u001b[1;33m)\u001b[0m\u001b[1;33m]\u001b[0m\u001b[1;33m\u001b[0m\u001b[1;33m\u001b[0m\u001b[0m\n\u001b[0m\u001b[0;32m    975\u001b[0m \u001b[1;33m\u001b[0m\u001b[0m\n\u001b[0;32m    976\u001b[0m         \u001b[1;32mif\u001b[0m \u001b[0mlen\u001b[0m\u001b[1;33m(\u001b[0m\u001b[0mret\u001b[0m\u001b[1;33m)\u001b[0m\u001b[1;33m:\u001b[0m\u001b[1;33m\u001b[0m\u001b[1;33m\u001b[0m\u001b[0m\n",
      "\u001b[1;32m~\\anaconda3\\lib\\site-packages\\matplotlib\\artist.py\u001b[0m in \u001b[0;36m_update_property\u001b[1;34m(self, k, v)\u001b[0m\n\u001b[0;32m    968\u001b[0m                 \u001b[1;32mif\u001b[0m \u001b[1;32mnot\u001b[0m \u001b[0mcallable\u001b[0m\u001b[1;33m(\u001b[0m\u001b[0mfunc\u001b[0m\u001b[1;33m)\u001b[0m\u001b[1;33m:\u001b[0m\u001b[1;33m\u001b[0m\u001b[1;33m\u001b[0m\u001b[0m\n\u001b[0;32m    969\u001b[0m                     raise AttributeError('{!r} object has no property {!r}'\n\u001b[1;32m--> 970\u001b[1;33m                                          .format(type(self).__name__, k))\n\u001b[0m\u001b[0;32m    971\u001b[0m                 \u001b[1;32mreturn\u001b[0m \u001b[0mfunc\u001b[0m\u001b[1;33m(\u001b[0m\u001b[0mv\u001b[0m\u001b[1;33m)\u001b[0m\u001b[1;33m\u001b[0m\u001b[1;33m\u001b[0m\u001b[0m\n\u001b[0;32m    972\u001b[0m \u001b[1;33m\u001b[0m\u001b[0m\n",
      "\u001b[1;31mAttributeError\u001b[0m: 'Line2D' object has no property 'type'"
     ]
    },
    {
     "data": {
      "text/plain": [
       "<Figure size 432x288 with 0 Axes>"
      ]
     },
     "metadata": {},
     "output_type": "display_data"
    },
    {
     "data": {
      "image/png": "[encoded data removed]",
      "text/plain": [
       "<Figure size 432x288 with 1 Axes>"
      ]
     },
     "metadata": {
      "needs_background": "light"
     },
     "output_type": "display_data"
    },
    {
     "data": {
      "image/png": "[encoded data removed]",
      "text/plain": [
       "<Figure size 432x288 with 1 Axes>"
      ]
     },
     "metadata": {
      "needs_background": "light"
     },
     "output_type": "display_data"
    },
    {
     "data": {
      "image/png": "[encoded data removed]",
      "text/plain": [
       "<Figure size 432x288 with 1 Axes>"
      ]
     },
     "metadata": {
      "needs_background": "light"
     },
     "output_type": "display_data"
    },
    {
     "data": {
      "image/png": "[encoded data removed]",
      "text/plain": [
       "<Figure size 432x288 with 1 Axes>"
      ]
     },
     "metadata": {
      "needs_background": "light"
     },
     "output_type": "display_data"
    }
   ],
   "source": [
    "from sklearn.metrics import confusion_matrix as matrix , roc_curve , RocCurveDisplay\n",
    "list_of_models = [clf_rfc, knn_without,svm_lin_without, svm_rbf_without   ]\n",
    "names = ['RF' , 'KNN' , 'SVM (linear)' , 'SVM(RBF)']\n",
    "j=-1\n",
    "accuracy_from_R_without = {}\n",
    "plt.figure(111)\n",
    "AUC_R_without = {}\n",
    "for i in list_of_models:\n",
    "    print(\"=\"*25)\n",
    "    j+=1\n",
    "    y_pred_without = i.predict(X_test_without)\n",
    "    print(\"Accuracy score for {} :    {}\".format(names[j] , accuracy_score(y_test_without , y_pred_without) ))\n",
    "    print(\"F1 score for : {} :        {}\".format(names[j],f1_score(y_test_without, y_pred_without)))\n",
    "    print(\"auc curve accuracy for {} :  {} \".format( names[j], roc(y_test_without, y_pred_without)))\n",
    "    print(\"recall score for {} :     {} \".format(names[j] , recall_score(y_test_without , y_pred_without)))\n",
    "    print('precision : {}'.format(precision_score(y_test_without , y_pred_without)))\n",
    "    print(matrix(y_test_without , y_pred_without ))\n",
    "    accuracy_from_R_without[names[j]]= accuracy_score(y_test_without,y_pred_without)\n",
    "    AUC_R_without[names[j]] = roc(y_test_without,y_pred_without)\n",
    "    \n",
    "    \n",
    "    \n",
    "    ftp , tpr , thres =  roc_curve(y_test_without,i.predict_proba(X_test_without)[:,1])\n",
    "    \n",
    "    \n",
    "    figure_new =  RocCurveDisplay(fpr=ftp ,tpr=tpr ,roc_auc=roc(y_test_without, y_pred_without) , estimator_name=names[j]  )\n",
    "   \n",
    "    figure_new.plot()\n",
    "    \n",
    "    \n",
    "plt.title(names[j])\n",
    "plt.plot( range(1,10,1) , range(1,10,1), type='-')\n",
    "plt.show()\n",
    " "
   ]
  },
  {
   "cell_type": "code",
   "execution_count": 27,
   "metadata": {},
   "outputs": [
    {
     "data": {
      "text/plain": [
       "Text(0.5, 1.0, 'Without ONE HOT train ')"
      ]
     },
     "execution_count": 27,
     "metadata": {},
     "output_type": "execute_result"
    },
    {
     "data": {
      "image/png": "[encoded data removed]",
      "text/plain": [
       "<Figure size 432x288 with 1 Axes>"
      ]
     },
     "metadata": {
      "needs_background": "light"
     },
     "output_type": "display_data"
    }
   ],
   "source": [
    "sns.barplot(  list ( accuracy_from_R_without.keys() ) , list(accuracy_from_R_without.values()) )\n",
    "plt.ylim([0,0.8])\n",
    "plt.grid()\n",
    "plt.title('Without ONE HOT train ')"
   ]
  },
  {
   "cell_type": "markdown",
   "metadata": {},
   "source": [
    "## TRAIN WITH OVER SAMPLE  SMOTE \n"
   ]
  },
  {
   "cell_type": "code",
   "execution_count": 28,
   "metadata": {},
   "outputs": [
    {
     "name": "stdout",
     "output_type": "stream",
     "text": [
      "286 Counter({0: 201, 1: 85})\n",
      "402 Counter({0: 201, 1: 201})\n"
     ]
    }
   ],
   "source": [
    "from imblearn.over_sampling import SMOTE \n",
    "from collections import Counter\n",
    "oversampling_smote = SMOTE()\n",
    "data_over_w , res_over_w = oversampling_smote.fit_resample(data_train ,res_class )\n",
    "\n",
    "X_train_smote_w, X_test_smote_w, y_train_smote_w, y_test_smote_w = train_test_split(data_over_w, res_over_w, test_size=0.2,random_state=30) # 80% training and 20% test\n",
    "\n",
    "\n",
    "\n",
    "\n",
    "print( len(data_train)       ,   Counter (   res_class))\n",
    "print(len (data_over_w) ,Counter(res_over_w))"
   ]
  },
  {
   "cell_type": "code",
   "execution_count": 29,
   "metadata": {},
   "outputs": [
    {
     "data": {
      "text/plain": [
       "KNeighborsClassifier(algorithm='auto', leaf_size=30, metric='minkowski',\n",
       "                     metric_params=None, n_jobs=None, n_neighbors=2, p=2,\n",
       "                     weights='uniform')"
      ]
     },
     "execution_count": 29,
     "metadata": {},
     "output_type": "execute_result"
    }
   ],
   "source": [
    "# RANDOM FOREST CLASSIFIER\n",
    "from sklearn.ensemble.forest import RandomForestClassifier\n",
    "clf_smote_w = RandomForestClassifier( n_estimators=100 , random_state= 0)\n",
    "clf_smote_w.fit(X_train_smote_w ,y_train_smote_w)\n",
    "\n",
    "#SVM kernel = linear \n",
    "from sklearn.svm import SVC\n",
    "svm_lin_smote_w = SVC(kernel='linear') \n",
    "svm_lin_smote_w.fit(X_train_smote_w, y_train_smote_w)\n",
    "\n",
    "# SVM kerner = rbf \n",
    "svm_rbf_smote_w = SVC(kernel= 'rbf')\n",
    "svm_rbf_smote_w.fit(X_train_smote_w, y_train_smote_w)\n",
    "\n",
    "#KNN n_neighbors =2\n",
    "from sklearn.neighbors import KNeighborsClassifier\n",
    "knn_smote_w = KNeighborsClassifier( n_neighbors=2 )\n",
    "knn_smote_w.fit(X_train_smote_w, y_train_smote_w)"
   ]
  },
  {
   "cell_type": "code",
   "execution_count": 30,
   "metadata": {},
   "outputs": [
    {
     "name": "stdout",
     "output_type": "stream",
     "text": [
      "=========================\n",
      "Accuracy score for RF :    0.7407407407407407\n",
      "F1 score for : RF :        0.746987951807229\n",
      "auc curve accuracy for RF :  0.7405487804878049 \n",
      " precision : 0.7380952380952381\n",
      "recall score for RF :     0.7560975609756098 \n",
      "=========================\n",
      "Accuracy score for KNN :    0.6790123456790124\n",
      "F1 score for : KNN :        0.6486486486486487\n",
      "auc curve accuracy for KNN :  0.6801829268292683 \n",
      " precision : 0.7272727272727273\n",
      "recall score for KNN :     0.5853658536585366 \n",
      "=========================\n",
      "Accuracy score for SVM (linear) :    0.5555555555555556\n",
      "F1 score for : SVM (linear) :        0.6086956521739131\n",
      "auc curve accuracy for SVM (linear) :  0.5539634146341464 \n",
      " precision : 0.5490196078431373\n",
      "recall score for SVM (linear) :     0.6829268292682927 \n",
      "=========================\n",
      "Accuracy score for SVM(RBF) :    0.6049382716049383\n",
      "F1 score for : SVM(RBF) :        0.4838709677419355\n",
      "auc curve accuracy for SVM(RBF) :  0.6079268292682927 \n",
      " precision : 0.7142857142857143\n",
      "recall score for SVM(RBF) :     0.36585365853658536 \n"
     ]
    }
   ],
   "source": [
    "list_of_models = [clf_smote_w , knn_smote_w,svm_lin_smote_w, svm_rbf_smote_w   ]\n",
    "names = ['RF' , 'KNN' , 'SVM (linear)' , 'SVM(RBF)']\n",
    "j=-1\n",
    "accuracy_from_without_smote = {}\n",
    "AUC_R_without_smote = {}\n",
    "for i in list_of_models:\n",
    "    print(\"=\"*25)\n",
    "    j+=1\n",
    "    y_pred_smote_w = i.predict(X_test_smote_w)\n",
    "    print(\"Accuracy score for {} :    {}\".format(names[j] , accuracy_score(y_test_smote_w , y_pred_smote_w) ))\n",
    "    print(\"F1 score for : {} :        {}\".format(names[j],f1_score(y_test_smote_w, y_pred_smote_w)))\n",
    "    print(\"auc curve accuracy for {} :  {} \".format( names[j], roc(y_test_smote_w, y_pred_smote_w)))\n",
    "    print(' precision : {}'.format(precision_score(y_test_smote_w, y_pred_smote_w)))\n",
    "    print(\"recall score for {} :     {} \".format(names[j] , recall_score(y_test_smote_w , y_pred_smote_w)))\n",
    "    accuracy_from_without_smote[names[j]]= accuracy_score(y_test_smote_w,y_pred_smote_w)\n",
    "    AUC_R_without_smote[names[j]] = roc(y_test_smote_w,y_pred_smote_w)"
   ]
  },
  {
   "cell_type": "code",
   "execution_count": 31,
   "metadata": {},
   "outputs": [
    {
     "data": {
      "text/plain": [
       "Text(0.5, 1.0, 'SMOTE without ONE HOT')"
      ]
     },
     "execution_count": 31,
     "metadata": {},
     "output_type": "execute_result"
    },
    {
     "data": {
      "image/png": "[encoded data removed]",
      "text/plain": [
       "<Figure size 432x288 with 1 Axes>"
      ]
     },
     "metadata": {
      "needs_background": "light"
     },
     "output_type": "display_data"
    }
   ],
   "source": [
    "sns.barplot(  list ( accuracy_from_without_smote.keys() ) , list(accuracy_from_without_smote.values()) )\n",
    "plt.ylim([0,0.8])\n",
    "plt.grid()\n",
    "plt.title('SMOTE without ONE HOT')"
   ]
  },
  {
   "cell_type": "markdown",
   "metadata": {},
   "source": [
    "## random over sampler without ONE HOT "
   ]
  },
  {
   "cell_type": "code",
   "execution_count": 32,
   "metadata": {},
   "outputs": [
    {
     "name": "stdout",
     "output_type": "stream",
     "text": [
      "Counter({0: 201, 1: 201})\n"
     ]
    }
   ],
   "source": [
    "# random overampler \n",
    "from imblearn.over_sampling import RandomOverSampler\n",
    "ros_without = RandomOverSampler(random_state = 0)\n",
    "data_over , res_over = ros_without.fit_resample(data_train ,res_class )\n",
    "\n",
    "X_train_r_w, X_test_r_w, y_train_r_w, y_test_r_w = train_test_split(data_over, res_over, test_size=0.2,random_state=30) # 80% training and 20% test\n",
    "\n",
    "\n",
    "\n",
    "\n",
    "print( Counter (  res_over) )\n"
   ]
  },
  {
   "cell_type": "code",
   "execution_count": 49,
   "metadata": {},
   "outputs": [
    {
     "data": {
      "text/plain": [
       "KNeighborsClassifier(algorithm='auto', leaf_size=30, metric='minkowski',\n",
       "                     metric_params=None, n_jobs=None, n_neighbors=2, p=2,\n",
       "                     weights='uniform')"
      ]
     },
     "execution_count": 49,
     "metadata": {},
     "output_type": "execute_result"
    }
   ],
   "source": [
    "# RANDOM FOREST CLASSIFIER\n",
    "from sklearn.ensemble.forest import RandomForestClassifier\n",
    "clf_r_w = RandomForestClassifier( n_estimators=100 , random_state= 0)\n",
    "clf_r_w.fit(X_train_r_w ,y_train_r_w)\n",
    "\n",
    "#SVM kernel = linear \n",
    "from sklearn.svm import SVC\n",
    "svm_lin_r_w = SVC(kernel='linear' , probability=True) \n",
    "svm_lin_r_w.fit(X_train_r_w, y_train_r_w)\n",
    "\n",
    "# SVM kerner = rbf \n",
    "svm_rbf_r_w = SVC(kernel= 'rbf' , probability=True)\n",
    "svm_rbf_r_w.fit(X_train_r_w, y_train_r_w)\n",
    "\n",
    "#KNN n_neighbors =2\n",
    "from sklearn.neighbors import KNeighborsClassifier\n",
    "knn_r_w = KNeighborsClassifier( n_neighbors=2 )\n",
    "knn_r_w.fit(X_train_r_w, y_train_r_w)"
   ]
  },
  {
   "cell_type": "code",
   "execution_count": 56,
   "metadata": {},
   "outputs": [
    {
     "name": "stdout",
     "output_type": "stream",
     "text": [
      "=========================\n",
      "Accuracy score for RF :    0.7777777777777778\n",
      "F1 score for : RF :        0.7954545454545454\n",
      "auc curve accuracy for RF :  0.7768292682926828 \n",
      "precision curve accuracy for RF :  0.7446808510638298 \n",
      "recall score for RF :     0.8536585365853658 \n",
      "=========================\n",
      "Accuracy score for KNN :    0.6666666666666666\n",
      "F1 score for : KNN :        0.6301369863013699\n",
      "auc curve accuracy for KNN :  0.6679878048780489 \n",
      "precision curve accuracy for KNN :  0.71875 \n",
      "recall score for KNN :     0.5609756097560976 \n",
      "=========================\n",
      "Accuracy score for SVM (linear) :    0.5802469135802469\n",
      "F1 score for : SVM (linear) :        0.5641025641025641\n",
      "auc curve accuracy for SVM (linear) :  0.5807926829268293 \n",
      "precision curve accuracy for SVM (linear) :  0.5945945945945946 \n",
      "recall score for SVM (linear) :     0.5365853658536586 \n",
      "=========================\n",
      "Accuracy score for SVM(RBF) :    0.6172839506172839\n",
      "F1 score for : SVM(RBF) :        0.5373134328358209\n",
      "auc curve accuracy for SVM(RBF) :  0.6195121951219512 \n",
      "precision curve accuracy for SVM(RBF) :  0.6923076923076923 \n",
      "recall score for SVM(RBF) :     0.43902439024390244 \n"
     ]
    },
    {
     "data": {
      "image/png": "[encoded data removed]",
      "text/plain": [
       "<Figure size 432x288 with 1 Axes>"
      ]
     },
     "metadata": {
      "needs_background": "light"
     },
     "output_type": "display_data"
    },
    {
     "data": {
      "image/png": "[encoded data removed]",
      "text/plain": [
       "<Figure size 432x288 with 1 Axes>"
      ]
     },
     "metadata": {
      "needs_background": "light"
     },
     "output_type": "display_data"
    },
    {
     "data": {
      "image/png": "[encoded data removed]",
      "text/plain": [
       "<Figure size 432x288 with 1 Axes>"
      ]
     },
     "metadata": {
      "needs_background": "light"
     },
     "output_type": "display_data"
    },
    {
     "data": {
      "image/png": "[encoded data removed]",
      "text/plain": [
       "<Figure size 432x288 with 1 Axes>"
      ]
     },
     "metadata": {
      "needs_background": "light"
     },
     "output_type": "display_data"
    }
   ],
   "source": [
    "list_of_models = [clf_r_w , knn_r_w,svm_lin_r_w, svm_rbf_r_w   ]\n",
    "names = ['RF' , 'KNN' , 'SVM (linear)' , 'SVM(RBF)']\n",
    "j=-1\n",
    "accuracy_from_w_r = {}\n",
    "AUC_R_w_r = {}\n",
    "for i in list_of_models:\n",
    "    print(\"=\"*25)\n",
    "    j+=1\n",
    "    y_pred_r_w = i.predict(X_test_r_w)\n",
    "    print(\"Accuracy score for {} :    {}\".format(names[j] , accuracy_score(y_test_r_w , y_pred_r_w) ))\n",
    "    print(\"F1 score for : {} :        {}\".format(names[j],f1_score(y_test_r_w, y_pred_r_w)))\n",
    "    print(\"auc curve accuracy for {} :  {} \".format( names[j], roc(y_test_r_w, y_pred_r_w)))\n",
    "    print(\"precision curve accuracy for {} :  {} \".format( names[j], precision_score(y_test_r_w, y_pred_r_w)) )\n",
    "    print(\"recall score for {} :     {} \".format(names[j] , recall_score(y_test_r_w , y_pred_r_w)))\n",
    "    accuracy_from_w_r[names[j]]= accuracy_score(y_test_r_w,y_pred_r_w)\n",
    "    AUC_R_w_r[names[j]] = roc(y_test_r_w,y_pred_r_w)\n",
    "    \n",
    "    \n",
    "    ftp , tpr , thres =  roc_curve(y_test_r_w,i.predict_proba(X_test_r_w)[:,1])\n",
    "    \n",
    "    \n",
    "    figure_new =  RocCurveDisplay(fpr=ftp ,tpr=tpr ,roc_auc=roc(y_test_r_w, y_pred_r_w) , estimator_name=names[j]  )\n",
    "   \n",
    "    figure_new.plot()\n",
    "    plt.title(names[j])\n",
    "    \n",
    "plt.title(names[j])\n",
    "\n",
    "plt.show()"
   ]
  },
  {
   "cell_type": "code",
   "execution_count": 51,
   "metadata": {},
   "outputs": [
    {
     "data": {
      "text/plain": [
       "Text(0.5, 1.0, 'RANDOM OVER SAMPLER WITHOUT ONE HOT')"
      ]
     },
     "execution_count": 51,
     "metadata": {},
     "output_type": "execute_result"
    },
    {
     "data": {
      "image/png": "[encoded data removed]",
      "text/plain": [
       "<Figure size 432x288 with 1 Axes>"
      ]
     },
     "metadata": {
      "needs_background": "light"
     },
     "output_type": "display_data"
    }
   ],
   "source": [
    "sns.barplot(  list ( accuracy_from_w_r.keys() ) , list(accuracy_from_w_r.values()) )\n",
    "plt.ylim([0,0.8])\n",
    "plt.grid()\n",
    "plt.title('RANDOM OVER SAMPLER WITHOUT ONE HOT')"
   ]
  },
  {
   "cell_type": "code",
   "execution_count": 36,
   "metadata": {},
   "outputs": [
    {
     "data": {
      "text/plain": [
       "dict_values([0.7777777777777778, 0.6666666666666666, 0.5802469135802469, 0.6172839506172839])"
      ]
     },
     "execution_count": 36,
     "metadata": {},
     "output_type": "execute_result"
    }
   ],
   "source": [
    "accuracy_from_w_r.values()"
   ]
  },
  {
   "cell_type": "code",
   "execution_count": 37,
   "metadata": {},
   "outputs": [],
   "source": [
    "#CREATE DF FOR PLOT \n",
    "smote_random_without_df = pd.DataFrame()"
   ]
  },
  {
   "cell_type": "code",
   "execution_count": 38,
   "metadata": {},
   "outputs": [],
   "source": [
    "smote_random_without_df['algorithms'] = ['clf', 'knn', 'svm_linear', 'svm_rbf' ]  "
   ]
  },
  {
   "cell_type": "code",
   "execution_count": 39,
   "metadata": {},
   "outputs": [],
   "source": [
    "smote_random_without_df['SMOTE'] = accuracy_from_without_smote.values()\n",
    "smote_random_without_df['RandomSampler'] = accuracy_from_w_r.values()\n",
    "smote_random_without_df['Original Set'] = accuracy_from_R_without.values()"
   ]
  },
  {
   "cell_type": "code",
   "execution_count": 40,
   "metadata": {},
   "outputs": [
    {
     "data": {
      "text/html": [
       "<div>\n",
       "<style scoped>\n",
       "    .dataframe tbody tr th:only-of-type {\n",
       "        vertical-align: middle;\n",
       "    }\n",
       "\n",
       "    .dataframe tbody tr th {\n",
       "        vertical-align: top;\n",
       "    }\n",
       "\n",
       "    .dataframe thead th {\n",
       "        text-align: right;\n",
       "    }\n",
       "</style>\n",
       "<table border=\"1\" class=\"dataframe\">\n",
       "  <thead>\n",
       "    <tr style=\"text-align: right;\">\n",
       "      <th></th>\n",
       "      <th>algorithms</th>\n",
       "      <th>SMOTE</th>\n",
       "      <th>RandomSampler</th>\n",
       "      <th>Original Set</th>\n",
       "    </tr>\n",
       "  </thead>\n",
       "  <tbody>\n",
       "    <tr>\n",
       "      <th>0</th>\n",
       "      <td>clf</td>\n",
       "      <td>0.740741</td>\n",
       "      <td>0.777778</td>\n",
       "      <td>0.657343</td>\n",
       "    </tr>\n",
       "    <tr>\n",
       "      <th>1</th>\n",
       "      <td>knn</td>\n",
       "      <td>0.679012</td>\n",
       "      <td>0.666667</td>\n",
       "      <td>0.699301</td>\n",
       "    </tr>\n",
       "    <tr>\n",
       "      <th>2</th>\n",
       "      <td>svm_linear</td>\n",
       "      <td>0.555556</td>\n",
       "      <td>0.580247</td>\n",
       "      <td>0.706294</td>\n",
       "    </tr>\n",
       "    <tr>\n",
       "      <th>3</th>\n",
       "      <td>svm_rbf</td>\n",
       "      <td>0.604938</td>\n",
       "      <td>0.617284</td>\n",
       "      <td>0.699301</td>\n",
       "    </tr>\n",
       "  </tbody>\n",
       "</table>\n",
       "</div>"
      ],
      "text/plain": [
       "   algorithms     SMOTE  RandomSampler  Original Set\n",
       "0         clf  0.740741       0.777778      0.657343\n",
       "1         knn  0.679012       0.666667      0.699301\n",
       "2  svm_linear  0.555556       0.580247      0.706294\n",
       "3     svm_rbf  0.604938       0.617284      0.699301"
      ]
     },
     "execution_count": 40,
     "metadata": {},
     "output_type": "execute_result"
    }
   ],
   "source": [
    "smote_random_without_df"
   ]
  },
  {
   "cell_type": "code",
   "execution_count": 41,
   "metadata": {},
   "outputs": [
    {
     "data": {
      "text/plain": [
       "Text(0.5, 1.0, 'OverSampling comparisons')"
      ]
     },
     "execution_count": 41,
     "metadata": {},
     "output_type": "execute_result"
    },
    {
     "data": {
      "image/png": "[encoded data removed]",
      "text/plain": [
       "<Figure size 432x288 with 1 Axes>"
      ]
     },
     "metadata": {
      "needs_background": "light"
     },
     "output_type": "display_data"
    }
   ],
   "source": [
    "import sys\n",
    "ax = plt.subplot(111) \n",
    "x= [2,4,6,8]\n",
    "bar1 = ax.bar(x , smote_random_without_df['SMOTE'], color='b' ,width=0.4)\n",
    "bar2= ax.bar([2.4,4.4,6.4,8.4], smote_random_without_df['RandomSampler'], color= 'r', width=0.4 )\n",
    "bar3 = ax.bar([2.8,4.8,6.8,8.8], smote_random_without_df['Original Set'], color= 'g', width=0.4 )\n",
    "\n",
    "plt.ylim([0,1])\n",
    "plt.legend(['SMOTE', 'Random Sampler', 'Original Set'])\n",
    "ax.set_xticks(x)\n",
    "ax.set_xticklabels(smote_random_without_df['algorithms'], fontsize = 12)\n",
    "plt.grid()\n",
    "plt.title('OverSampling comparisons')"
   ]
  },
  {
   "cell_type": "code",
   "execution_count": null,
   "metadata": {},
   "outputs": [],
   "source": []
  },
  {
   "cell_type": "code",
   "execution_count": 42,
   "metadata": {},
   "outputs": [
    {
     "data": {
      "text/plain": [
       "[0.6573426573426573,\n",
       " 0.6993006993006993,\n",
       " 0.7062937062937062,\n",
       " 0.6993006993006993]"
      ]
     },
     "execution_count": 42,
     "metadata": {},
     "output_type": "execute_result"
    }
   ],
   "source": [
    "\n",
    "list(accuracy_from_R_without.values())"
   ]
  },
  {
   "cell_type": "code",
   "execution_count": 43,
   "metadata": {},
   "outputs": [
    {
     "data": {
      "text/plain": [
       "[0.6783216783216783,\n",
       " 0.7062937062937062,\n",
       " 0.6713286713286714,\n",
       " 0.6853146853146853]"
      ]
     },
     "execution_count": 43,
     "metadata": {},
     "output_type": "execute_result"
    }
   ],
   "source": [
    "list(accuracy_from_origin.values())"
   ]
  },
  {
   "cell_type": "code",
   "execution_count": 44,
   "metadata": {},
   "outputs": [
    {
     "data": {
      "text/plain": [
       "Text(0.5, 1.0, 'Transformation comparisons')"
      ]
     },
     "execution_count": 44,
     "metadata": {},
     "output_type": "execute_result"
    },
    {
     "data": {
      "image/png": "[encoded data removed]",
      "text/plain": [
       "<Figure size 432x288 with 1 Axes>"
      ]
     },
     "metadata": {
      "needs_background": "light"
     },
     "output_type": "display_data"
    }
   ],
   "source": [
    "import sys\n",
    "ax = plt.subplot(111) \n",
    "x= [2,4,6,8]\n",
    "bar1 = ax.bar(x ,list(accuracy_from_origin.values()), color='b' ,width=0.4)   ##  DUMEIE ONE HOT \n",
    "\n",
    "\n",
    "\n",
    "\n",
    "bar2 = ax.bar([2.4,4.4,6.4,8.4],list(accuracy_from_R_without.values()) , color= 'r', width=0.4 )  ## WITHOUT ONE HOT \n",
    "\n",
    "plt.ylim([0,1])\n",
    "plt.legend([ 'One Hot Encoding' , 'Label Encoding'])\n",
    "ax.set_xticks(x)\n",
    "ax.set_xticklabels(accuracy_from_origin.keys(), fontsize = 12)\n",
    "plt.grid()\n",
    "plt.title('Transformation comparisons')"
   ]
  },
  {
   "cell_type": "code",
   "execution_count": 45,
   "metadata": {},
   "outputs": [
    {
     "data": {
      "text/plain": [
       "<matplotlib.axes._subplots.AxesSubplot at 0x13bc7ee5b08>"
      ]
     },
     "execution_count": 45,
     "metadata": {},
     "output_type": "execute_result"
    },
    {
     "data": {
      "image/png": "[encoded data removed]",
      "text/plain": [
       "<Figure size 432x288 with 1 Axes>"
      ]
     },
     "metadata": {
      "needs_background": "light"
     },
     "output_type": "display_data"
    }
   ],
   "source": [
    "sns.barplot(  list ( accuracy_from_origin.keys() ) , list(accuracy_from_origin.values()) )\n"
   ]
  },
  {
   "cell_type": "code",
   "execution_count": null,
   "metadata": {},
   "outputs": [],
   "source": []
  }
 ],
 "metadata": {
  "kernelspec": {
   "display_name": "Python 3",
   "language": "python",
   "name": "python3"
  },
  "language_info": {
   "codemirror_mode": {
    "name": "ipython",
    "version": 3
   },
   "file_extension": ".py",
   "mimetype": "text/x-python",
   "name": "python",
   "nbconvert_exporter": "python",
   "pygments_lexer": "ipython3",
   "version": "3.7.6"
  }
 },
 "nbformat": 4,
 "nbformat_minor": 4
}
